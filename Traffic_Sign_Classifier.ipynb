{
 "cells": [
  {
   "cell_type": "markdown",
   "metadata": {
    "deletable": true,
    "editable": true
   },
   "source": [
    "# Self-Driving Car Engineer Nanodegree\n",
    "\n",
    "## Deep Learning\n",
    "\n",
    "## Project: Build a Traffic Sign Recognition Classifier\n",
    "\n",
    "In this notebook, a template is provided for you to implement your functionality in stages, which is required to successfully complete this project. If additional code is required that cannot be included in the notebook, be sure that the Python code is successfully imported and included in your submission if necessary. \n",
    "\n",
    "> **Note**: Once you have completed all of the code implementations, you need to finalize your work by exporting the iPython Notebook as an HTML document. Before exporting the notebook to html, all of the code cells need to have been run so that reviewers can see the final implementation and output. You can then export the notebook by using the menu above and navigating to  \\n\",\n",
    "    \"**File -> Download as -> HTML (.html)**. Include the finished document along with this notebook as your submission. \n",
    "\n",
    "In addition to implementing code, there is a writeup to complete. The writeup should be completed in a separate file, which can be either a markdown file or a pdf document. There is a [write up template](https://github.com/udacity/CarND-Traffic-Sign-Classifier-Project/blob/master/writeup_template.md) that can be used to guide the writing process. Completing the code template and writeup template will cover all of the [rubric points](https://review.udacity.com/#!/rubrics/481/view) for this project.\n",
    "\n",
    "The [rubric](https://review.udacity.com/#!/rubrics/481/view) contains \"Stand Out Suggestions\" for enhancing the project beyond the minimum requirements. The stand out suggestions are optional. If you decide to pursue the \"stand out suggestions\", you can include the code in this Ipython notebook and also discuss the results in the writeup file.\n",
    "\n",
    "\n",
    ">**Note:** Code and Markdown cells can be executed using the **Shift + Enter** keyboard shortcut. In addition, Markdown cells can be edited by typically double-clicking the cell to enter edit mode."
   ]
  },
  {
   "cell_type": "markdown",
   "metadata": {
    "deletable": true,
    "editable": true
   },
   "source": [
    "---\n",
    "## Step 0: Load The Data"
   ]
  },
  {
   "cell_type": "code",
   "execution_count": 1,
   "metadata": {
    "collapsed": false,
    "deletable": true,
    "editable": true
   },
   "outputs": [
    {
     "name": "stdout",
     "output_type": "stream",
     "text": [
      "Done\n"
     ]
    }
   ],
   "source": [
    "# Load pickled data\n",
    "import pickle\n",
    "\n",
    "# TODO: Fill this in based on where you saved the training and testing data\n",
    "\n",
    "training_file = 'traffic-signs-data/train.p'\n",
    "validation_file = 'traffic-signs-data/valid.p'\n",
    "testing_file = 'traffic-signs-data/test.p'\n",
    "\n",
    "with open(training_file, mode='rb') as f:\n",
    "    train = pickle.load(f)\n",
    "with open(validation_file, mode='rb') as f:\n",
    "    valid = pickle.load(f)\n",
    "with open(testing_file, mode='rb') as f:\n",
    "    test = pickle.load(f)\n",
    "    \n",
    "X_train, y_train = train['features'], train['labels']\n",
    "X_valid, y_valid = valid['features'], valid['labels']\n",
    "X_test, y_test = test['features'], test['labels']\n",
    "\n",
    "print(\"Done\")"
   ]
  },
  {
   "cell_type": "markdown",
   "metadata": {
    "deletable": true,
    "editable": true
   },
   "source": [
    "---\n",
    "\n",
    "## Step 1: Dataset Summary & Exploration\n",
    "\n",
    "The pickled data is a dictionary with 4 key/value pairs:\n",
    "\n",
    "- `'features'` is a 4D array containing raw pixel data of the traffic sign images, (num examples, width, height, channels).\n",
    "- `'labels'` is a 1D array containing the label/class id of the traffic sign. The file `signnames.csv` contains id -> name mappings for each id.\n",
    "- `'sizes'` is a list containing tuples, (width, height) representing the original width and height the image.\n",
    "- `'coords'` is a list containing tuples, (x1, y1, x2, y2) representing coordinates of a bounding box around the sign in the image. **THESE COORDINATES ASSUME THE ORIGINAL IMAGE. THE PICKLED DATA CONTAINS RESIZED VERSIONS (32 by 32) OF THESE IMAGES**\n",
    "\n",
    "Complete the basic data summary below. Use python, numpy and/or pandas methods to calculate the data summary rather than hard coding the results. For example, the [pandas shape method](http://pandas.pydata.org/pandas-docs/stable/generated/pandas.DataFrame.shape.html) might be useful for calculating some of the summary results. "
   ]
  },
  {
   "cell_type": "markdown",
   "metadata": {
    "deletable": true,
    "editable": true
   },
   "source": [
    "### Provide a Basic Summary of the Data Set Using Python, Numpy and/or Pandas"
   ]
  },
  {
   "cell_type": "code",
   "execution_count": 2,
   "metadata": {
    "collapsed": false,
    "deletable": true,
    "editable": true
   },
   "outputs": [
    {
     "name": "stdout",
     "output_type": "stream",
     "text": [
      "Number of training examples = 34799\n",
      "Number of testing examples = 12630\n",
      "Image data shape = (32, 32, 3)\n",
      "Number of classes = 43\n"
     ]
    }
   ],
   "source": [
    "### Replace each question mark with the appropriate value. \n",
    "### Use python, pandas or numpy methods rather than hard coding the results\n",
    "import numpy as np\n",
    "import collections\n",
    "\n",
    "# TODO: Number of training examples\n",
    "n_train = len(X_train)\n",
    "\n",
    "# TODO: Number of validation examples\n",
    "n_validation = len(X_valid)\n",
    "\n",
    "# TODO: Number of testing examples.\n",
    "n_test = len(X_test)\n",
    "\n",
    "# TODO: What's the shape of an traffic sign image?\n",
    "image_shape = X_train[0].shape\n",
    "\n",
    "# TODO: How many unique classes/labels there are in the dataset.\n",
    "n_classes = len(collections.Counter(y_train))\n",
    "\n",
    "print(\"Number of training examples =\", n_train)\n",
    "print(\"Number of testing examples =\", n_test)\n",
    "print(\"Image data shape =\", image_shape)\n",
    "print(\"Number of classes =\", n_classes)"
   ]
  },
  {
   "cell_type": "markdown",
   "metadata": {
    "deletable": true,
    "editable": true
   },
   "source": [
    "### Include an exploratory visualization of the dataset"
   ]
  },
  {
   "cell_type": "markdown",
   "metadata": {
    "deletable": true,
    "editable": true
   },
   "source": [
    "Visualize the German Traffic Signs Dataset using the pickled file(s). This is open ended, suggestions include: plotting traffic sign images, plotting the count of each sign, etc. \n",
    "\n",
    "The [Matplotlib](http://matplotlib.org/) [examples](http://matplotlib.org/examples/index.html) and [gallery](http://matplotlib.org/gallery.html) pages are a great resource for doing visualizations in Python.\n",
    "\n",
    "**NOTE:** It's recommended you start with something simple first. If you wish to do more, come back to it after you've completed the rest of the sections. It can be interesting to look at the distribution of classes in the training, validation and test set. Is the distribution the same? Are there more examples of some classes than others?"
   ]
  },
  {
   "cell_type": "code",
   "execution_count": 3,
   "metadata": {
    "collapsed": false,
    "deletable": true,
    "editable": true
   },
   "outputs": [
    {
     "data": {
      "image/png": "[encoded data removed]",
      "text/plain": [
       "<matplotlib.figure.Figure at 0x200e50a8e80>"
      ]
     },
     "metadata": {},
     "output_type": "display_data"
    }
   ],
   "source": [
    "### Data exploration visualization code goes here.\n",
    "### Feel free to use as many code cells as needed.\n",
    "import matplotlib.pyplot as plt\n",
    "# Visualizations will be shown in the notebook.\n",
    "%matplotlib inline\n",
    "import random\n",
    "\n",
    "randoms = []\n",
    "# show image of 15 random data points\n",
    "fig, axs = plt.subplots(3,5, figsize=(5,4))\n",
    "axs = axs.ravel()\n",
    "for i in range(15):\n",
    "    index = random.randint(0, n_train)\n",
    "    randoms.append(index)\n",
    "    image = X_train[index]\n",
    "    axs[i].axis('off')\n",
    "    axs[i].imshow(image)\n",
    "    axs[i].set_title(y_train[index])"
   ]
  },
  {
   "cell_type": "code",
   "execution_count": 4,
   "metadata": {
    "collapsed": false,
    "deletable": true,
    "editable": true
   },
   "outputs": [
    {
     "data": {
      "image/png": "[encoded data removed]",
      "text/plain": [
       "<matplotlib.figure.Figure at 0x200e50a85f8>"
      ]
     },
     "metadata": {},
     "output_type": "display_data"
    }
   ],
   "source": [
    "## show the gray color\n",
    "fig, axs = plt.subplots(3,5, figsize=(5,4))\n",
    "axs = axs.ravel()\n",
    "for i in range(15):\n",
    "    index = randoms[i]\n",
    "    randoms.append(index)\n",
    "    image = X_train[index]\n",
    "    gray = np.mean(image, axis=2)\n",
    "    axs[i].axis('off')\n",
    "    axs[i].imshow(gray, cmap='gray')\n",
    "    axs[i].set_title(y_train[index])"
   ]
  },
  {
   "cell_type": "code",
   "execution_count": 5,
   "metadata": {
    "collapsed": false,
    "deletable": true,
    "editable": true
   },
   "outputs": [
    {
     "name": "stdout",
     "output_type": "stream",
     "text": [
      "[41 41 41 41 41 41 41 41 41 41 41 41 41 41 41 41 41 41 41 41 41 41 41 41 41\n",
      " 41 41 41 41 41 41 41 41 41 41 41 41 41 41 41 41 41 41 41 41 41 41 41 41 41\n",
      " 41 41 41 41 41 41 41 41 41 41 41 41 41 41 41 41 41 41 41 41 41 41 41 41 41\n",
      " 41 41 41 41 41 41 41 41 41 41 41 41 41 41 41 41 41 41 41 41 41 41 41 41 41\n",
      " 41 41 41 41 41 41 41 41 41 41 41 41 41 41 41 41 41 41 41 41 41 41 41 41 41\n",
      " 41 41 41 41 41 41 41 41 41 41 41 41 41 41 41 41 41 41 41 41 41 41 41 41 41\n",
      " 41 41 41 41 41 41 41 41 41 41 41 41 41 41 41 41 41 41 41 41 41 41 41 41 41\n",
      " 41 41 41 41 41 41 41 41 41 41 41 41 41 41 41 41 41 41 41 41 41 41 41 41 41]\n",
      "\n",
      "[25 25 25 25 25 25 25 25 25 25 25 25 25 25 25 25 25 25 25 25 25 25 25 25 25\n",
      " 25 25 25 25 25 25 25 25 25 25 25 25 25 25 25 25 25 25 25 25 25 25 25 25 25\n",
      " 25 25 25 25 25 25 25 25 25 25 25 25 25 25 25 25 25 25 25 25 25 25 25 25 25\n",
      " 25 25 25 25 25 25 25 25 25 25 25 25 25 25 25 25 25 25 25 25 25 25 25 25 25\n",
      " 25 25 25 25 25 25 25 25 25 25 25 25 25 25 25 25 25 25 25 25 25 25 25 25 25\n",
      " 25 25 25 25 25 25 25 25 25 25 25 25 25 25 25 25 25 25 25 25 25 25 25 25 25\n",
      " 25 25 25 25 25 25 25 25 25 25 25 25 25 25 25 25 25 25 25 25 25 25 25 25 25\n",
      " 25 25 25 25 25 25 25 25 25 25 25 25 25 25 25 25 25 25 25 25 25 25 25 25 25]\n"
     ]
    }
   ],
   "source": [
    "# print y_train\n",
    "print(y_train[0:200])\n",
    "print()\n",
    "print(y_train[-200:])"
   ]
  },
  {
   "cell_type": "markdown",
   "metadata": {
    "deletable": true,
    "editable": true
   },
   "source": [
    "so: this data must to be shuffled."
   ]
  },
  {
   "cell_type": "code",
   "execution_count": 6,
   "metadata": {
    "collapsed": false,
    "deletable": true,
    "editable": true
   },
   "outputs": [
    {
     "name": "stdout",
     "output_type": "stream",
     "text": [
      "Done\n"
     ]
    }
   ],
   "source": [
    "# Shuffle the dataset\n",
    "\n",
    "from sklearn.utils import shuffle\n",
    "X_train, y_train = shuffle(X_train, y_train)\n",
    "X_valid, y_valid = shuffle(X_valid, y_valid)\n",
    "X_test, y_test = shuffle(X_test, y_test)\n",
    "print(\"Done\")"
   ]
  },
  {
   "cell_type": "code",
   "execution_count": 7,
   "metadata": {
    "collapsed": false,
    "deletable": true,
    "editable": true
   },
   "outputs": [
    {
     "data": {
      "image/png": "[encoded data removed]",
      "text/plain": [
       "<matplotlib.figure.Figure at 0x200e1a053c8>"
      ]
     },
     "metadata": {},
     "output_type": "display_data"
    }
   ],
   "source": [
    "# histogram of label frequency\n",
    "hist, bins = np.histogram(y_train, bins=n_classes)\n",
    "center = (bins[:-1] + bins[1:]) / 2\n",
    "plt.bar(center, hist, align='center',)\n",
    "plt.show()"
   ]
  },
  {
   "cell_type": "markdown",
   "metadata": {
    "deletable": true,
    "editable": true
   },
   "source": [
    "There are no imformation from the histogram"
   ]
  },
  {
   "cell_type": "markdown",
   "metadata": {
    "deletable": true,
    "editable": true
   },
   "source": [
    "## Step 2: Design and Test a Model Architecture\n",
    "\n",
    "Design and implement a deep learning model that learns to recognize traffic signs. Train and test your model on the [German Traffic Sign Dataset](http://benchmark.ini.rub.de/?section=gtsrb&subsection=dataset).\n",
    "\n",
    "The LeNet-5 implementation shown in the [classroom](https://classroom.udacity.com/nanodegrees/nd013/parts/fbf77062-5703-404e-b60c-95b78b2f3f9e/modules/6df7ae49-c61c-4bb2-a23e-6527e69209ec/lessons/601ae704-1035-4287-8b11-e2c2716217ad/concepts/d4aca031-508f-4e0b-b493-e7b706120f81) at the end of the CNN lesson is a solid starting point. You'll have to change the number of classes and possibly the preprocessing, but aside from that it's plug and play! \n",
    "\n",
    "With the LeNet-5 solution from the lecture, you should expect a validation set accuracy of about 0.89. To meet specifications, the validation set accuracy will need to be at least 0.93. It is possible to get an even higher accuracy, but 0.93 is the minimum for a successful project submission. \n",
    "\n",
    "There are various aspects to consider when thinking about this problem:\n",
    "\n",
    "- Neural network architecture (is the network over or underfitting?)\n",
    "- Play around preprocessing techniques (normalization, rgb to grayscale, etc)\n",
    "- Number of examples per label (some have more than others).\n",
    "- Generate fake data.\n",
    "\n",
    "Here is an example of a [published baseline model on this problem](http://yann.lecun.com/exdb/publis/pdf/sermanet-ijcnn-11.pdf). It's not required to be familiar with the approach used in the paper but, it's good practice to try to read papers like these."
   ]
  },
  {
   "cell_type": "markdown",
   "metadata": {
    "deletable": true,
    "editable": true
   },
   "source": [
    "### Pre-process the Data Set (normalization, grayscale, etc.)"
   ]
  },
  {
   "cell_type": "markdown",
   "metadata": {
    "deletable": true,
    "editable": true
   },
   "source": [
    "Minimally, the image data should be normalized so that the data has mean zero and equal variance. For image data, `(pixel - 128)/ 128` is a quick way to approximately normalize the data and can be used in this project. \n",
    "\n",
    "Other pre-processing steps are optional. You can try different techniques to see if it improves performance. \n",
    "\n",
    "Use the code cell (or multiple code cells, if necessary) to implement the first step of your project."
   ]
  },
  {
   "cell_type": "code",
   "execution_count": 8,
   "metadata": {
    "collapsed": false,
    "deletable": true,
    "editable": true
   },
   "outputs": [
    {
     "name": "stdout",
     "output_type": "stream",
     "text": [
      "X_train_gray shape: (34799, 32, 32, 1)\n",
      "X_train shape: (34799, 32, 32, 1)\n"
     ]
    }
   ],
   "source": [
    "### Preprocess the data here. It is required to normalize the data. Other preprocessing steps could include \n",
    "### converting to grayscale, etc.\n",
    "### Feel free to use as many code cells as needed.\n",
    "\n",
    "# Convert to grayscale\n",
    "X_train_gray = np.sum(X_train/3, axis=3, keepdims=True)\n",
    "X_valid_gray = np.sum(X_valid/3, axis=3, keepdims=True)\n",
    "X_test_gray = np.sum(X_test/3, axis=3, keepdims=True)\n",
    "print('X_train_gray shape:', X_train_gray.shape)\n",
    "\n",
    "## Normalize the train and test datasets to (-1,1)\n",
    "X_train_normalized = (X_train_gray - 128)/128 \n",
    "X_valid_normalized = (X_valid_gray - 128)/128\n",
    "X_test_normalized = (X_test_gray - 128)/128\n",
    "\n",
    "X_train = X_train_normalized\n",
    "X_valid = X_valid_normalized\n",
    "X_test = X_test_normalized\n",
    "print('X_train shape:', X_train.shape)"
   ]
  },
  {
   "cell_type": "markdown",
   "metadata": {
    "deletable": true,
    "editable": true
   },
   "source": [
    "### Model Architecture"
   ]
  },
  {
   "cell_type": "code",
   "execution_count": null,
   "metadata": {
    "collapsed": false,
    "deletable": true,
    "editable": true
   },
   "outputs": [],
   "source": [
    "I use standard LeNet Model"
   ]
  },
  {
   "cell_type": "markdown",
   "metadata": {
    "collapsed": true,
    "deletable": true,
    "editable": true
   },
   "source": [
    "I use LeNet\n",
    "![LeNet](examples/lenet.png)"
   ]
  },
  {
   "cell_type": "code",
   "execution_count": 9,
   "metadata": {
    "collapsed": false,
    "deletable": true,
    "editable": true
   },
   "outputs": [],
   "source": [
    "def LeNet(x):\n",
    "    # Arguments used for tf.truncated_normal, randomly defines variables for the weights and biases for each layer\n",
    "    mu = 0\n",
    "    sigma = 0.1\n",
    "    # TODO: Layer 1: Convolutional. Input = 32x32x1. Output = 28x28x6.\n",
    "    conv1_W = tf.Variable(tf.truncated_normal(shape=(5, 5, 1, 6), mean=mu, stddev=sigma))\n",
    "    conv1_b = tf.Variable(tf.zeros(6))\n",
    "    conv1 = tf.nn.conv2d(x, conv1_W, strides=[1, 1, 1, 1], padding=\"VALID\") + conv1_b\n",
    "    # TODO: Activation.\n",
    "    conv1 = tf.nn.relu(conv1)\n",
    "    layer1 = conv1\n",
    "    # TODO: Pooling. Input = 28x28x6. Output = 14x14x6.\n",
    "    conv1 = tf.nn.max_pool(conv1, ksize=[1, 2, 2, 1], strides=[1, 2, 2, 1], padding='VALID')\n",
    "    layer2 = conv1\n",
    "\n",
    "    # TODO: Layer 2: Convolutional. Output = 10x10x16.\n",
    "    conv2_W = tf.Variable(tf.truncated_normal(shape=(5, 5, 6, 16), mean=mu, stddev=sigma))\n",
    "    conv2_b = tf.Variable(tf.zeros(16))\n",
    "    conv2 = tf.nn.conv2d(conv1, conv2_W, strides=[1, 1, 1, 1], padding=\"VALID\") + conv2_b\n",
    "    # TODO: Activation.\n",
    "    conv2 = tf.nn.relu(conv2)\n",
    "    layer3 = conv2\n",
    "    # TODO: Pooling. Input = 10x10x16. Output = 5x5x16.\n",
    "    conv2 = tf.nn.max_pool(conv2, ksize=[1, 2, 2, 1], strides=[1, 2, 2, 1], padding='VALID')\n",
    "    layer4 = conv2\n",
    "\n",
    "    # TODO: Flatten. Input = 5x5x16. Output = 400.\n",
    "    fc0 = flatten(conv2)\n",
    "    # TODO: Layer 3: Fully Connected. Input = 400. Output = 120.\n",
    "    fc1_W = tf.Variable(tf.truncated_normal(shape=(400, 120), mean=mu, stddev=sigma))\n",
    "    fc1_b = tf.Variable(tf.zeros(120))\n",
    "    fc1 = tf.matmul(fc0, fc1_W) + fc1_b\n",
    "    # TODO: Activation.\n",
    "    fc1 = tf.nn.relu(fc1)\n",
    "    # TODO: Layer 4: Fully Connected. Input = 120. Output = 84.\n",
    "    fc2_W = tf.Variable(tf.truncated_normal(shape=(120, 84), mean=mu, stddev=sigma))\n",
    "    fc2_b = tf.Variable(tf.zeros(84))\n",
    "    fc2 = tf.matmul(fc1, fc2_W) + fc2_b\n",
    "    # TODO: Activation.\n",
    "    fc2 = tf.nn.relu(fc2)\n",
    "    # TODO: Layer 5: Fully Connected. Input = 84. Output = 43.\n",
    "    fc3_W = tf.Variable(tf.truncated_normal(shape=(84, 43), mean=mu, stddev=sigma))\n",
    "    fc3_b = tf.Variable(tf.zeros(43))\n",
    "    logits = tf.matmul(fc2, fc3_W) + fc3_b\n",
    "    return logits, layer1, layer2, layer3, layer4"
   ]
  },
  {
   "cell_type": "markdown",
   "metadata": {
    "collapsed": true,
    "deletable": true,
    "editable": true
   },
   "source": [
    "I use modified LetNet Model by the paper"
   ]
  },
  {
   "cell_type": "markdown",
   "metadata": {
    "deletable": true,
    "editable": true
   },
   "source": [
    "i change the network as the paper http://yann.lecun.com/exdb/publis/pdf/sermanet-ijcnn-11.pdf\n",
    "\n",
    "![Change The Network](examples/20170410235258.png)"
   ]
  },
  {
   "cell_type": "code",
   "execution_count": 10,
   "metadata": {
    "collapsed": true,
    "deletable": true,
    "editable": true
   },
   "outputs": [],
   "source": [
    "def LeNet2(x):\n",
    "    # Hyperparameters\n",
    "    mu = 0\n",
    "    sigma = 0.1\n",
    "    # TODO: Layer 1: Convolutional. Input = 32x32x1. Output = 28x28x6.\n",
    "    conv1_W = tf.Variable(tf.truncated_normal(shape=(5, 5, 1, 6), mean=mu, stddev=sigma))\n",
    "    conv1_b = tf.Variable(tf.zeros(6))\n",
    "    conv1 = tf.nn.conv2d(x, conv1_W, strides=[1, 1, 1, 1], padding=\"VALID\") + conv1_b\n",
    "    # TODO: Activation.\n",
    "    conv1 = tf.nn.relu(conv1)\n",
    "    layer1 = conv1\n",
    "    # TODO: Pooling. Input = 28x28x6. Output = 14x14x6.\n",
    "    conv1 = tf.nn.max_pool(conv1, ksize=[1, 2, 2, 1], strides=[1, 2, 2, 1], padding='VALID')\n",
    "    layer2 = conv1\n",
    "\n",
    "    # TODO: Layer 2: Convolutional. Output = 10x10x16.\n",
    "    conv2_W = tf.Variable(tf.truncated_normal(shape=(5, 5, 6, 16), mean=mu, stddev=sigma), name=\"W2\")\n",
    "    conv2_b = tf.Variable(tf.zeros(16))\n",
    "    conv2 = tf.nn.conv2d(conv1, conv2_W, strides=[1, 1, 1, 1], padding=\"VALID\") + conv2_b\n",
    "    # TODO: Activation.\n",
    "    conv2 = tf.nn.relu(conv2)\n",
    "    layer3 = conv2\n",
    "    # TODO: Pooling. Input = 10x10x16. Output = 5x5x16.\n",
    "    conv2 = tf.nn.max_pool(conv2, ksize=[1, 2, 2, 1], strides=[1, 2, 2, 1], padding='VALID')\n",
    "    layer4 = conv2\n",
    "\n",
    "    # TODO: Layer 3: Convolutional. Output = 1x1x400.\n",
    "    conv3_W = tf.Variable(tf.truncated_normal(shape=(5, 5, 16, 400), mean=mu, stddev=sigma))\n",
    "    conv3_b = tf.Variable(tf.zeros(400), name=\"b3\")\n",
    "    conv3 = tf.nn.conv2d(conv2, conv3_W, strides=[1, 1, 1, 1], padding='VALID')\n",
    "    conv3 = tf.nn.bias_add(conv3, conv3_b)\n",
    "    # TODO: Activation.\n",
    "    conv3 = tf.nn.relu(conv3)\n",
    "\n",
    "    # TODO: Flatten. Input = 5x5x16. Output = 400.\n",
    "    fc0 = flatten(conv2)\n",
    "    print(\"layer2flat shape:\", fc0.get_shape())\n",
    "\n",
    "    # Flatten x. Input = 1x1x400. Output = 400.\n",
    "    fc1 = flatten(conv3)\n",
    "    print(\"xflat shape:\", fc1.get_shape())\n",
    "    # Concat layer2flat and x. Input = 400 + 400. Output = 800\n",
    "    fc2 = tf.concat([fc0, fc1], 1)\n",
    "    print(\"fc2 shape:\", fc2.get_shape())\n",
    "    # Dropout\n",
    "    fc2 = tf.nn.dropout(fc2, keep_prob)\n",
    "\n",
    "    # TODO: Layer 4: Fully Connected. Input = 800. Output = 43.\n",
    "    fc3_W = tf.Variable(tf.truncated_normal(shape=(800, 43), mean=mu, stddev=sigma), name=\"W4\")\n",
    "    fc3_b = tf.Variable(tf.zeros(43), name=\"b4\")\n",
    "    logits = tf.add(tf.matmul(fc2, fc3_W), fc3_b)\n",
    "\n",
    "    return logits, layer1, layer2, layer3, layer4"
   ]
  },
  {
   "cell_type": "markdown",
   "metadata": {
    "deletable": true,
    "editable": true
   },
   "source": [
    "### Train, Validate and Test the Model"
   ]
  },
  {
   "cell_type": "markdown",
   "metadata": {
    "deletable": true,
    "editable": true
   },
   "source": [
    "A validation set can be used to assess how well the model is performing. A low accuracy on the training and validation\n",
    "sets imply underfitting. A high accuracy on the training set but low accuracy on the validation set implies overfitting."
   ]
  },
  {
   "cell_type": "code",
   "execution_count": 12,
   "metadata": {
    "collapsed": true,
    "deletable": true,
    "editable": true
   },
   "outputs": [],
   "source": [
    "### Train your model here.\n",
    "### Calculate and report the accuracy on the training and validation set.\n",
    "### Once a final model architecture is selected, \n",
    "### the accuracy on the test set should be calculated and reported as well.\n",
    "### Feel free to use as many code cells as needed."
   ]
  },
  {
   "cell_type": "code",
   "execution_count": 11,
   "metadata": {
    "collapsed": false,
    "deletable": true,
    "editable": true
   },
   "outputs": [],
   "source": [
    "import tensorflow as tf\n",
    "from tensorflow.contrib.layers import flatten\n",
    "\n",
    "#parameters\n",
    "BATCH_SIZE = 128\n",
    "EPOCHS = int(n_train/BATCH_SIZE) + 1  #use all the train data\n",
    "rate = 0.001\n",
    "dropout = 0.5\n",
    "\n",
    "x = tf.placeholder(tf.float32, (None, 32, 32, 1))\n",
    "y = tf.placeholder(tf.int32, (None))\n",
    "keep_prob = tf.placeholder(tf.float32)\n",
    "one_hot_y = tf.one_hot(y, 43)\n",
    "\n",
    "logits, layer1, layer2, layer3, layer4 = LeNet(x)\n",
    "cross_entropy = tf.nn.softmax_cross_entropy_with_logits(logits=logits, labels=one_hot_y)\n",
    "loss_operation = tf.reduce_mean(cross_entropy)\n",
    "optimizer = tf.train.AdamOptimizer(learning_rate = rate)\n",
    "training_operation = optimizer.minimize(loss_operation)\n",
    "\n",
    "correct_prediction = tf.equal(tf.argmax(logits, 1), tf.argmax(one_hot_y, 1))\n",
    "accuracy_operation = tf.reduce_mean(tf.cast(correct_prediction, tf.float32))"
   ]
  },
  {
   "cell_type": "code",
   "execution_count": 12,
   "metadata": {
    "collapsed": false,
    "deletable": true,
    "editable": true
   },
   "outputs": [],
   "source": [
    "def evaluate(X_data, y_data):\n",
    "    num_examples = len(X_data)\n",
    "    total_accuracy = 0\n",
    "    sess = tf.get_default_session()\n",
    "    for offset in range(0, num_examples, BATCH_SIZE):\n",
    "        batch_x, batch_y = X_data[offset:offset+BATCH_SIZE], y_data[offset:offset+BATCH_SIZE]\n",
    "        accuracy = sess.run(accuracy_operation, feed_dict={x: batch_x, y: batch_y, keep_prob: dropout})\n",
    "        total_accuracy += (accuracy * len(batch_x))\n",
    "    return total_accuracy / num_examples"
   ]
  },
  {
   "cell_type": "code",
   "execution_count": 15,
   "metadata": {
    "collapsed": false,
    "deletable": true,
    "editable": true
   },
   "outputs": [
    {
     "name": "stdout",
     "output_type": "stream",
     "text": [
      "Training...\n",
      "\n",
      "EPOCH 1 / 272 ...\n",
      "Validation Accuracy = 0.770\n",
      "\n",
      "EPOCH 2 / 272 ...\n",
      "Validation Accuracy = 0.852\n",
      "\n",
      "EPOCH 3 / 272 ...\n",
      "Validation Accuracy = 0.877\n",
      "\n",
      "EPOCH 4 / 272 ...\n",
      "Validation Accuracy = 0.886\n",
      "\n",
      "EPOCH 5 / 272 ...\n",
      "Validation Accuracy = 0.892\n",
      "\n",
      "EPOCH 6 / 272 ...\n",
      "Validation Accuracy = 0.896\n",
      "\n",
      "EPOCH 7 / 272 ...\n",
      "Validation Accuracy = 0.900\n",
      "\n",
      "EPOCH 8 / 272 ...\n",
      "Validation Accuracy = 0.911\n",
      "\n",
      "EPOCH 9 / 272 ...\n",
      "Validation Accuracy = 0.909\n",
      "\n",
      "EPOCH 10 / 272 ...\n",
      "Validation Accuracy = 0.906\n",
      "\n",
      "EPOCH 11 / 272 ...\n",
      "Validation Accuracy = 0.899\n",
      "\n",
      "EPOCH 12 / 272 ...\n",
      "Validation Accuracy = 0.890\n",
      "\n",
      "EPOCH 13 / 272 ...\n",
      "Validation Accuracy = 0.898\n",
      "\n",
      "EPOCH 14 / 272 ...\n",
      "Validation Accuracy = 0.907\n",
      "\n",
      "EPOCH 15 / 272 ...\n",
      "Validation Accuracy = 0.902\n",
      "\n",
      "EPOCH 16 / 272 ...\n",
      "Validation Accuracy = 0.912\n",
      "\n",
      "EPOCH 17 / 272 ...\n",
      "Validation Accuracy = 0.902\n",
      "\n",
      "EPOCH 18 / 272 ...\n",
      "Validation Accuracy = 0.920\n",
      "\n",
      "EPOCH 19 / 272 ...\n",
      "Validation Accuracy = 0.922\n",
      "\n",
      "EPOCH 20 / 272 ...\n",
      "Validation Accuracy = 0.915\n",
      "\n",
      "EPOCH 21 / 272 ...\n",
      "Validation Accuracy = 0.915\n",
      "\n",
      "EPOCH 22 / 272 ...\n",
      "Validation Accuracy = 0.920\n",
      "\n",
      "EPOCH 23 / 272 ...\n",
      "Validation Accuracy = 0.924\n",
      "\n",
      "EPOCH 24 / 272 ...\n",
      "Validation Accuracy = 0.923\n",
      "\n",
      "EPOCH 25 / 272 ...\n",
      "Validation Accuracy = 0.924\n",
      "\n",
      "EPOCH 26 / 272 ...\n",
      "Validation Accuracy = 0.918\n",
      "\n",
      "EPOCH 27 / 272 ...\n",
      "Validation Accuracy = 0.913\n",
      "\n",
      "EPOCH 28 / 272 ...\n",
      "Validation Accuracy = 0.934\n",
      "\n",
      "EPOCH 29 / 272 ...\n",
      "Validation Accuracy = 0.926\n",
      "\n",
      "EPOCH 30 / 272 ...\n",
      "Validation Accuracy = 0.926\n",
      "\n",
      "EPOCH 31 / 272 ...\n",
      "Validation Accuracy = 0.919\n",
      "\n",
      "EPOCH 32 / 272 ...\n",
      "Validation Accuracy = 0.899\n",
      "\n",
      "EPOCH 33 / 272 ...\n",
      "Validation Accuracy = 0.919\n",
      "\n",
      "EPOCH 34 / 272 ...\n",
      "Validation Accuracy = 0.929\n",
      "\n",
      "EPOCH 35 / 272 ...\n",
      "Validation Accuracy = 0.932\n",
      "\n",
      "EPOCH 36 / 272 ...\n",
      "Validation Accuracy = 0.924\n",
      "\n",
      "EPOCH 37 / 272 ...\n",
      "Validation Accuracy = 0.915\n",
      "\n",
      "EPOCH 38 / 272 ...\n",
      "Validation Accuracy = 0.930\n",
      "\n",
      "EPOCH 39 / 272 ...\n",
      "Validation Accuracy = 0.931\n",
      "\n",
      "EPOCH 40 / 272 ...\n",
      "Validation Accuracy = 0.931\n",
      "\n",
      "EPOCH 41 / 272 ...\n",
      "Validation Accuracy = 0.914\n",
      "\n",
      "EPOCH 42 / 272 ...\n",
      "Validation Accuracy = 0.922\n",
      "\n",
      "EPOCH 43 / 272 ...\n",
      "Validation Accuracy = 0.929\n",
      "\n",
      "EPOCH 44 / 272 ...\n",
      "Validation Accuracy = 0.934\n",
      "\n",
      "EPOCH 45 / 272 ...\n",
      "Validation Accuracy = 0.932\n",
      "\n",
      "EPOCH 46 / 272 ...\n",
      "Validation Accuracy = 0.922\n",
      "\n",
      "EPOCH 47 / 272 ...\n",
      "Validation Accuracy = 0.937\n",
      "\n",
      "EPOCH 48 / 272 ...\n",
      "Validation Accuracy = 0.937\n",
      "\n",
      "EPOCH 49 / 272 ...\n",
      "Validation Accuracy = 0.936\n",
      "\n",
      "EPOCH 50 / 272 ...\n",
      "Validation Accuracy = 0.935\n",
      "\n",
      "EPOCH 51 / 272 ...\n",
      "Validation Accuracy = 0.935\n",
      "\n",
      "EPOCH 52 / 272 ...\n",
      "Validation Accuracy = 0.936\n",
      "\n",
      "EPOCH 53 / 272 ...\n",
      "Validation Accuracy = 0.936\n",
      "\n",
      "EPOCH 54 / 272 ...\n",
      "Validation Accuracy = 0.935\n",
      "\n",
      "EPOCH 55 / 272 ...\n",
      "Validation Accuracy = 0.934\n",
      "\n",
      "EPOCH 56 / 272 ...\n",
      "Validation Accuracy = 0.935\n",
      "\n",
      "EPOCH 57 / 272 ...\n",
      "Validation Accuracy = 0.935\n",
      "\n",
      "EPOCH 58 / 272 ...\n",
      "Validation Accuracy = 0.936\n",
      "\n",
      "EPOCH 59 / 272 ...\n",
      "Validation Accuracy = 0.935\n",
      "\n",
      "EPOCH 60 / 272 ...\n",
      "Validation Accuracy = 0.934\n",
      "\n",
      "EPOCH 61 / 272 ...\n",
      "Validation Accuracy = 0.934\n",
      "\n",
      "EPOCH 62 / 272 ...\n",
      "Validation Accuracy = 0.934\n",
      "\n",
      "EPOCH 63 / 272 ...\n",
      "Validation Accuracy = 0.934\n",
      "\n",
      "EPOCH 64 / 272 ...\n",
      "Validation Accuracy = 0.934\n",
      "\n",
      "EPOCH 65 / 272 ...\n",
      "Validation Accuracy = 0.933\n",
      "\n",
      "EPOCH 66 / 272 ...\n",
      "Validation Accuracy = 0.933\n",
      "\n",
      "EPOCH 67 / 272 ...\n",
      "Validation Accuracy = 0.934\n",
      "\n",
      "EPOCH 68 / 272 ...\n",
      "Validation Accuracy = 0.934\n",
      "\n",
      "EPOCH 69 / 272 ...\n",
      "Validation Accuracy = 0.934\n",
      "\n",
      "EPOCH 70 / 272 ...\n",
      "Validation Accuracy = 0.934\n",
      "\n",
      "EPOCH 71 / 272 ...\n",
      "Validation Accuracy = 0.934\n",
      "\n",
      "EPOCH 72 / 272 ...\n",
      "Validation Accuracy = 0.934\n",
      "\n",
      "EPOCH 73 / 272 ...\n",
      "Validation Accuracy = 0.934\n",
      "\n",
      "EPOCH 74 / 272 ...\n",
      "Validation Accuracy = 0.935\n",
      "\n",
      "EPOCH 75 / 272 ...\n",
      "Validation Accuracy = 0.936\n",
      "\n",
      "EPOCH 76 / 272 ...\n",
      "Validation Accuracy = 0.936\n",
      "\n",
      "EPOCH 77 / 272 ...\n",
      "Validation Accuracy = 0.935\n",
      "\n",
      "EPOCH 78 / 272 ...\n",
      "Validation Accuracy = 0.935\n",
      "\n",
      "EPOCH 79 / 272 ...\n",
      "Validation Accuracy = 0.935\n",
      "\n",
      "EPOCH 80 / 272 ...\n",
      "Validation Accuracy = 0.935\n",
      "\n",
      "EPOCH 81 / 272 ...\n",
      "Validation Accuracy = 0.935\n",
      "\n",
      "EPOCH 82 / 272 ...\n",
      "Validation Accuracy = 0.935\n",
      "\n",
      "EPOCH 83 / 272 ...\n",
      "Validation Accuracy = 0.935\n",
      "\n",
      "EPOCH 84 / 272 ...\n",
      "Validation Accuracy = 0.935\n",
      "\n",
      "EPOCH 85 / 272 ...\n",
      "Validation Accuracy = 0.934\n",
      "\n",
      "EPOCH 86 / 272 ...\n",
      "Validation Accuracy = 0.934\n",
      "\n",
      "EPOCH 87 / 272 ...\n",
      "Validation Accuracy = 0.934\n",
      "\n",
      "EPOCH 88 / 272 ...\n",
      "Validation Accuracy = 0.934\n",
      "\n",
      "EPOCH 89 / 272 ...\n",
      "Validation Accuracy = 0.934\n",
      "\n",
      "EPOCH 90 / 272 ...\n",
      "Validation Accuracy = 0.934\n",
      "\n",
      "EPOCH 91 / 272 ...\n",
      "Validation Accuracy = 0.934\n",
      "\n",
      "EPOCH 92 / 272 ...\n",
      "Validation Accuracy = 0.934\n",
      "\n",
      "EPOCH 93 / 272 ...\n",
      "Validation Accuracy = 0.934\n",
      "\n",
      "EPOCH 94 / 272 ...\n",
      "Validation Accuracy = 0.934\n",
      "\n",
      "EPOCH 95 / 272 ...\n",
      "Validation Accuracy = 0.934\n",
      "\n",
      "EPOCH 96 / 272 ...\n",
      "Validation Accuracy = 0.934\n",
      "\n",
      "EPOCH 97 / 272 ...\n",
      "Validation Accuracy = 0.934\n",
      "\n",
      "EPOCH 98 / 272 ...\n",
      "Validation Accuracy = 0.934\n",
      "\n",
      "EPOCH 99 / 272 ...\n",
      "Validation Accuracy = 0.934\n",
      "\n",
      "EPOCH 100 / 272 ...\n",
      "Validation Accuracy = 0.933\n",
      "\n",
      "EPOCH 101 / 272 ...\n",
      "Validation Accuracy = 0.933\n",
      "\n",
      "EPOCH 102 / 272 ...\n",
      "Validation Accuracy = 0.933\n",
      "\n",
      "EPOCH 103 / 272 ...\n",
      "Validation Accuracy = 0.933\n",
      "\n",
      "EPOCH 104 / 272 ...\n",
      "Validation Accuracy = 0.933\n",
      "\n",
      "EPOCH 105 / 272 ...\n",
      "Validation Accuracy = 0.933\n",
      "\n",
      "EPOCH 106 / 272 ...\n",
      "Validation Accuracy = 0.933\n",
      "\n",
      "EPOCH 107 / 272 ...\n",
      "Validation Accuracy = 0.932\n",
      "\n",
      "EPOCH 108 / 272 ...\n",
      "Validation Accuracy = 0.932\n",
      "\n",
      "EPOCH 109 / 272 ...\n",
      "Validation Accuracy = 0.932\n",
      "\n",
      "EPOCH 110 / 272 ...\n",
      "Validation Accuracy = 0.932\n",
      "\n",
      "EPOCH 111 / 272 ...\n",
      "Validation Accuracy = 0.933\n",
      "\n",
      "EPOCH 112 / 272 ...\n",
      "Validation Accuracy = 0.933\n",
      "\n",
      "EPOCH 113 / 272 ...\n",
      "Validation Accuracy = 0.932\n",
      "\n",
      "EPOCH 114 / 272 ...\n",
      "Validation Accuracy = 0.932\n",
      "\n",
      "EPOCH 115 / 272 ...\n",
      "Validation Accuracy = 0.933\n",
      "\n",
      "EPOCH 116 / 272 ...\n",
      "Validation Accuracy = 0.932\n",
      "\n",
      "EPOCH 117 / 272 ...\n",
      "Validation Accuracy = 0.933\n",
      "\n",
      "EPOCH 118 / 272 ...\n",
      "Validation Accuracy = 0.933\n",
      "\n",
      "EPOCH 119 / 272 ...\n",
      "Validation Accuracy = 0.933\n",
      "\n",
      "EPOCH 120 / 272 ...\n",
      "Validation Accuracy = 0.932\n",
      "\n",
      "EPOCH 121 / 272 ...\n",
      "Validation Accuracy = 0.932\n",
      "\n",
      "EPOCH 122 / 272 ...\n",
      "Validation Accuracy = 0.932\n",
      "\n",
      "EPOCH 123 / 272 ...\n",
      "Validation Accuracy = 0.933\n",
      "\n",
      "EPOCH 124 / 272 ...\n",
      "Validation Accuracy = 0.932\n",
      "\n",
      "EPOCH 125 / 272 ...\n",
      "Validation Accuracy = 0.932\n",
      "\n",
      "EPOCH 126 / 272 ...\n",
      "Validation Accuracy = 0.896\n",
      "\n",
      "EPOCH 127 / 272 ...\n",
      "Validation Accuracy = 0.937\n",
      "\n",
      "EPOCH 128 / 272 ...\n",
      "Validation Accuracy = 0.938\n",
      "\n",
      "EPOCH 129 / 272 ...\n",
      "Validation Accuracy = 0.939\n",
      "\n",
      "EPOCH 130 / 272 ...\n",
      "Validation Accuracy = 0.936\n",
      "\n",
      "EPOCH 131 / 272 ...\n",
      "Validation Accuracy = 0.937\n",
      "\n",
      "EPOCH 132 / 272 ...\n",
      "Validation Accuracy = 0.938\n",
      "\n",
      "EPOCH 133 / 272 ...\n",
      "Validation Accuracy = 0.938\n",
      "\n",
      "EPOCH 134 / 272 ...\n",
      "Validation Accuracy = 0.937\n",
      "\n",
      "EPOCH 135 / 272 ...\n",
      "Validation Accuracy = 0.937\n",
      "\n",
      "EPOCH 136 / 272 ...\n",
      "Validation Accuracy = 0.937\n",
      "\n",
      "EPOCH 137 / 272 ...\n",
      "Validation Accuracy = 0.938\n",
      "\n",
      "EPOCH 138 / 272 ...\n",
      "Validation Accuracy = 0.937\n",
      "\n",
      "EPOCH 139 / 272 ...\n",
      "Validation Accuracy = 0.937\n",
      "\n",
      "EPOCH 140 / 272 ...\n",
      "Validation Accuracy = 0.937\n",
      "\n",
      "EPOCH 141 / 272 ...\n",
      "Validation Accuracy = 0.938\n",
      "\n",
      "EPOCH 142 / 272 ...\n",
      "Validation Accuracy = 0.938\n",
      "\n",
      "EPOCH 143 / 272 ...\n",
      "Validation Accuracy = 0.938\n",
      "\n",
      "EPOCH 144 / 272 ...\n",
      "Validation Accuracy = 0.938\n",
      "\n",
      "EPOCH 145 / 272 ...\n",
      "Validation Accuracy = 0.938\n",
      "\n",
      "EPOCH 146 / 272 ...\n",
      "Validation Accuracy = 0.938\n",
      "\n",
      "EPOCH 147 / 272 ...\n",
      "Validation Accuracy = 0.938\n",
      "\n",
      "EPOCH 148 / 272 ...\n",
      "Validation Accuracy = 0.938\n",
      "\n",
      "EPOCH 149 / 272 ...\n",
      "Validation Accuracy = 0.938\n",
      "\n",
      "EPOCH 150 / 272 ...\n",
      "Validation Accuracy = 0.938\n",
      "\n",
      "EPOCH 151 / 272 ...\n",
      "Validation Accuracy = 0.938\n",
      "\n",
      "EPOCH 152 / 272 ...\n",
      "Validation Accuracy = 0.938\n",
      "\n",
      "EPOCH 153 / 272 ...\n",
      "Validation Accuracy = 0.938\n",
      "\n",
      "EPOCH 154 / 272 ...\n",
      "Validation Accuracy = 0.938\n",
      "\n",
      "EPOCH 155 / 272 ...\n",
      "Validation Accuracy = 0.938\n",
      "\n",
      "EPOCH 156 / 272 ...\n",
      "Validation Accuracy = 0.938\n",
      "\n",
      "EPOCH 157 / 272 ...\n",
      "Validation Accuracy = 0.938\n",
      "\n",
      "EPOCH 158 / 272 ...\n",
      "Validation Accuracy = 0.939\n",
      "\n",
      "EPOCH 159 / 272 ...\n",
      "Validation Accuracy = 0.938\n",
      "\n",
      "EPOCH 160 / 272 ...\n",
      "Validation Accuracy = 0.938\n",
      "\n",
      "EPOCH 161 / 272 ...\n",
      "Validation Accuracy = 0.938\n",
      "\n",
      "EPOCH 162 / 272 ...\n",
      "Validation Accuracy = 0.938\n",
      "\n",
      "EPOCH 163 / 272 ...\n",
      "Validation Accuracy = 0.938\n",
      "\n",
      "EPOCH 164 / 272 ...\n",
      "Validation Accuracy = 0.938\n",
      "\n",
      "EPOCH 165 / 272 ...\n",
      "Validation Accuracy = 0.938\n",
      "\n",
      "EPOCH 166 / 272 ...\n",
      "Validation Accuracy = 0.938\n",
      "\n",
      "EPOCH 167 / 272 ...\n",
      "Validation Accuracy = 0.937\n",
      "\n",
      "EPOCH 168 / 272 ...\n",
      "Validation Accuracy = 0.937\n",
      "\n",
      "EPOCH 169 / 272 ...\n",
      "Validation Accuracy = 0.937\n",
      "\n",
      "EPOCH 170 / 272 ...\n",
      "Validation Accuracy = 0.937\n",
      "\n",
      "EPOCH 171 / 272 ...\n",
      "Validation Accuracy = 0.937\n",
      "\n",
      "EPOCH 172 / 272 ...\n",
      "Validation Accuracy = 0.937\n",
      "\n",
      "EPOCH 173 / 272 ...\n",
      "Validation Accuracy = 0.937\n",
      "\n",
      "EPOCH 174 / 272 ...\n",
      "Validation Accuracy = 0.938\n",
      "\n",
      "EPOCH 175 / 272 ...\n",
      "Validation Accuracy = 0.938\n",
      "\n",
      "EPOCH 176 / 272 ...\n",
      "Validation Accuracy = 0.938\n",
      "\n",
      "EPOCH 177 / 272 ...\n",
      "Validation Accuracy = 0.937\n",
      "\n",
      "EPOCH 178 / 272 ...\n",
      "Validation Accuracy = 0.937\n",
      "\n",
      "EPOCH 179 / 272 ...\n",
      "Validation Accuracy = 0.937\n",
      "\n",
      "EPOCH 180 / 272 ...\n",
      "Validation Accuracy = 0.937\n",
      "\n",
      "EPOCH 181 / 272 ...\n",
      "Validation Accuracy = 0.937\n",
      "\n",
      "EPOCH 182 / 272 ...\n",
      "Validation Accuracy = 0.937\n",
      "\n",
      "EPOCH 183 / 272 ...\n",
      "Validation Accuracy = 0.937\n",
      "\n",
      "EPOCH 184 / 272 ...\n",
      "Validation Accuracy = 0.937\n",
      "\n",
      "EPOCH 185 / 272 ...\n",
      "Validation Accuracy = 0.937\n",
      "\n",
      "EPOCH 186 / 272 ...\n",
      "Validation Accuracy = 0.937\n",
      "\n",
      "EPOCH 187 / 272 ...\n",
      "Validation Accuracy = 0.937\n",
      "\n",
      "EPOCH 188 / 272 ...\n",
      "Validation Accuracy = 0.937\n",
      "\n",
      "EPOCH 189 / 272 ...\n",
      "Validation Accuracy = 0.937\n",
      "\n",
      "EPOCH 190 / 272 ...\n",
      "Validation Accuracy = 0.936\n",
      "\n",
      "EPOCH 191 / 272 ...\n",
      "Validation Accuracy = 0.936\n",
      "\n",
      "EPOCH 192 / 272 ...\n",
      "Validation Accuracy = 0.936\n",
      "\n",
      "EPOCH 193 / 272 ...\n",
      "Validation Accuracy = 0.936\n",
      "\n",
      "EPOCH 194 / 272 ...\n",
      "Validation Accuracy = 0.936\n",
      "\n",
      "EPOCH 195 / 272 ...\n",
      "Validation Accuracy = 0.936\n",
      "\n",
      "EPOCH 196 / 272 ...\n",
      "Validation Accuracy = 0.936\n",
      "\n",
      "EPOCH 197 / 272 ...\n",
      "Validation Accuracy = 0.936\n",
      "\n",
      "EPOCH 198 / 272 ...\n",
      "Validation Accuracy = 0.936\n",
      "\n",
      "EPOCH 199 / 272 ...\n",
      "Validation Accuracy = 0.936\n",
      "\n",
      "EPOCH 200 / 272 ...\n",
      "Validation Accuracy = 0.936\n",
      "\n",
      "EPOCH 201 / 272 ...\n",
      "Validation Accuracy = 0.937\n",
      "\n",
      "EPOCH 202 / 272 ...\n",
      "Validation Accuracy = 0.937\n",
      "\n",
      "EPOCH 203 / 272 ...\n",
      "Validation Accuracy = 0.937\n",
      "\n",
      "EPOCH 204 / 272 ...\n",
      "Validation Accuracy = 0.937\n",
      "\n",
      "EPOCH 205 / 272 ...\n",
      "Validation Accuracy = 0.937\n",
      "\n",
      "EPOCH 206 / 272 ...\n",
      "Validation Accuracy = 0.936\n",
      "\n",
      "EPOCH 207 / 272 ...\n",
      "Validation Accuracy = 0.936\n",
      "\n",
      "EPOCH 208 / 272 ...\n",
      "Validation Accuracy = 0.937\n",
      "\n",
      "EPOCH 209 / 272 ...\n",
      "Validation Accuracy = 0.937\n",
      "\n",
      "EPOCH 210 / 272 ...\n",
      "Validation Accuracy = 0.938\n",
      "\n",
      "EPOCH 211 / 272 ...\n",
      "Validation Accuracy = 0.925\n",
      "\n",
      "EPOCH 212 / 272 ...\n",
      "Validation Accuracy = 0.935\n",
      "\n",
      "EPOCH 213 / 272 ...\n",
      "Validation Accuracy = 0.939\n",
      "\n",
      "EPOCH 214 / 272 ...\n",
      "Validation Accuracy = 0.934\n",
      "\n",
      "EPOCH 215 / 272 ...\n",
      "Validation Accuracy = 0.921\n",
      "\n",
      "EPOCH 216 / 272 ...\n",
      "Validation Accuracy = 0.945\n",
      "\n",
      "EPOCH 217 / 272 ...\n",
      "Validation Accuracy = 0.930\n",
      "\n",
      "EPOCH 218 / 272 ...\n",
      "Validation Accuracy = 0.933\n",
      "\n",
      "EPOCH 219 / 272 ...\n",
      "Validation Accuracy = 0.939\n",
      "\n",
      "EPOCH 220 / 272 ...\n",
      "Validation Accuracy = 0.941\n",
      "\n",
      "EPOCH 221 / 272 ...\n",
      "Validation Accuracy = 0.940\n",
      "\n",
      "EPOCH 222 / 272 ...\n",
      "Validation Accuracy = 0.940\n",
      "\n",
      "EPOCH 223 / 272 ...\n",
      "Validation Accuracy = 0.940\n",
      "\n",
      "EPOCH 224 / 272 ...\n",
      "Validation Accuracy = 0.940\n",
      "\n",
      "EPOCH 225 / 272 ...\n",
      "Validation Accuracy = 0.940\n",
      "\n",
      "EPOCH 226 / 272 ...\n",
      "Validation Accuracy = 0.940\n",
      "\n",
      "EPOCH 227 / 272 ...\n",
      "Validation Accuracy = 0.941\n",
      "\n",
      "EPOCH 228 / 272 ...\n",
      "Validation Accuracy = 0.941\n",
      "\n",
      "EPOCH 229 / 272 ...\n",
      "Validation Accuracy = 0.941\n",
      "\n",
      "EPOCH 230 / 272 ...\n",
      "Validation Accuracy = 0.941\n",
      "\n",
      "EPOCH 231 / 272 ...\n",
      "Validation Accuracy = 0.941\n",
      "\n",
      "EPOCH 232 / 272 ...\n",
      "Validation Accuracy = 0.941\n",
      "\n",
      "EPOCH 233 / 272 ...\n",
      "Validation Accuracy = 0.941\n",
      "\n",
      "EPOCH 234 / 272 ...\n",
      "Validation Accuracy = 0.941\n",
      "\n",
      "EPOCH 235 / 272 ...\n",
      "Validation Accuracy = 0.941\n",
      "\n",
      "EPOCH 236 / 272 ...\n",
      "Validation Accuracy = 0.941\n",
      "\n",
      "EPOCH 237 / 272 ...\n",
      "Validation Accuracy = 0.942\n",
      "\n",
      "EPOCH 238 / 272 ...\n",
      "Validation Accuracy = 0.942\n",
      "\n",
      "EPOCH 239 / 272 ...\n",
      "Validation Accuracy = 0.942\n",
      "\n",
      "EPOCH 240 / 272 ...\n",
      "Validation Accuracy = 0.943\n",
      "\n",
      "EPOCH 241 / 272 ...\n",
      "Validation Accuracy = 0.943\n",
      "\n",
      "EPOCH 242 / 272 ...\n",
      "Validation Accuracy = 0.943\n",
      "\n",
      "EPOCH 243 / 272 ...\n",
      "Validation Accuracy = 0.943\n",
      "\n",
      "EPOCH 244 / 272 ...\n",
      "Validation Accuracy = 0.943\n",
      "\n",
      "EPOCH 245 / 272 ...\n",
      "Validation Accuracy = 0.943\n",
      "\n",
      "EPOCH 246 / 272 ...\n",
      "Validation Accuracy = 0.943\n",
      "\n",
      "EPOCH 247 / 272 ...\n",
      "Validation Accuracy = 0.943\n",
      "\n",
      "EPOCH 248 / 272 ...\n",
      "Validation Accuracy = 0.943\n",
      "\n",
      "EPOCH 249 / 272 ...\n",
      "Validation Accuracy = 0.943\n",
      "\n",
      "EPOCH 250 / 272 ...\n",
      "Validation Accuracy = 0.943\n",
      "\n",
      "EPOCH 251 / 272 ...\n",
      "Validation Accuracy = 0.943\n",
      "\n",
      "EPOCH 252 / 272 ...\n",
      "Validation Accuracy = 0.943\n",
      "\n",
      "EPOCH 253 / 272 ...\n",
      "Validation Accuracy = 0.943\n",
      "\n",
      "EPOCH 254 / 272 ...\n",
      "Validation Accuracy = 0.943\n",
      "\n",
      "EPOCH 255 / 272 ...\n",
      "Validation Accuracy = 0.943\n",
      "\n",
      "EPOCH 256 / 272 ...\n",
      "Validation Accuracy = 0.943\n",
      "\n",
      "EPOCH 257 / 272 ...\n",
      "Validation Accuracy = 0.943\n",
      "\n",
      "EPOCH 258 / 272 ...\n",
      "Validation Accuracy = 0.943\n",
      "\n",
      "EPOCH 259 / 272 ...\n",
      "Validation Accuracy = 0.944\n",
      "\n",
      "EPOCH 260 / 272 ...\n",
      "Validation Accuracy = 0.943\n",
      "\n",
      "EPOCH 261 / 272 ...\n",
      "Validation Accuracy = 0.944\n",
      "\n",
      "EPOCH 262 / 272 ...\n",
      "Validation Accuracy = 0.944\n",
      "\n",
      "EPOCH 263 / 272 ...\n",
      "Validation Accuracy = 0.943\n",
      "\n",
      "EPOCH 264 / 272 ...\n",
      "Validation Accuracy = 0.943\n",
      "\n",
      "EPOCH 265 / 272 ...\n",
      "Validation Accuracy = 0.943\n",
      "\n",
      "EPOCH 266 / 272 ...\n",
      "Validation Accuracy = 0.944\n",
      "\n",
      "EPOCH 267 / 272 ...\n",
      "Validation Accuracy = 0.943\n",
      "\n",
      "EPOCH 268 / 272 ...\n",
      "Validation Accuracy = 0.943\n",
      "\n",
      "EPOCH 269 / 272 ...\n",
      "Validation Accuracy = 0.943\n",
      "\n",
      "EPOCH 270 / 272 ...\n",
      "Validation Accuracy = 0.944\n",
      "\n",
      "EPOCH 271 / 272 ...\n",
      "Validation Accuracy = 0.943\n",
      "\n",
      "EPOCH 272 / 272 ...\n",
      "Validation Accuracy = 0.943\n",
      "\n",
      "Model saved\n"
     ]
    }
   ],
   "source": [
    "### Training and valid\n",
    "saver = tf.train.Saver()\n",
    "if True:\n",
    "    with tf.Session() as sess:\n",
    "        sess.run(tf.global_variables_initializer())\n",
    "        num_examples = len(X_train)\n",
    "\n",
    "        print(\"Training...\")\n",
    "        print()\n",
    "        for i in range(EPOCHS):\n",
    "            for offset in range(0, num_examples, BATCH_SIZE):\n",
    "                end = offset + BATCH_SIZE\n",
    "                batch_x, batch_y = X_train[offset:end], y_train[offset:end]\n",
    "                sess.run(training_operation, feed_dict={x: batch_x, y: batch_y, keep_prob: dropout})\n",
    "\n",
    "            validation_accuracy = evaluate(X_valid, y_valid)\n",
    "            print(\"EPOCH {} / {} ...\".format(i + 1, EPOCHS))\n",
    "            print(\"Validation Accuracy = {:.3f}\".format(validation_accuracy))\n",
    "            print()\n",
    "\n",
    "        saver.save(sess, './lenet')\n",
    "        print(\"Model saved\")"
   ]
  },
  {
   "cell_type": "code",
   "execution_count": 16,
   "metadata": {
    "collapsed": false,
    "deletable": true,
    "editable": true
   },
   "outputs": [
    {
     "name": "stdout",
     "output_type": "stream",
     "text": [
      "Test Accuracy = 0.927\n",
      "Train Accuracy = 1.000\n",
      "Valid Accuracy = 0.943\n"
     ]
    }
   ],
   "source": [
    "### Testing the model\n",
    "saver = tf.train.Saver()\n",
    "with tf.Session() as sess:\n",
    "    saver.restore(sess, \"./lenet\")\n",
    "    test_accuracy = evaluate(X_test, y_test)\n",
    "    print(\"Test Accuracy = {:.3f}\".format(test_accuracy))\n",
    "    test_accuracy = evaluate(X_train, y_train)\n",
    "    print(\"Train Accuracy = {:.3f}\".format(test_accuracy))\n",
    "    test_accuracy = evaluate(X_valid, y_valid)\n",
    "    print(\"Valid Accuracy = {:.3f}\".format(test_accuracy))"
   ]
  },
  {
   "cell_type": "markdown",
   "metadata": {
    "collapsed": true,
    "deletable": true,
    "editable": true
   },
   "source": [
    "### Use this method, the test accuracy is 0.927"
   ]
  },
  {
   "cell_type": "markdown",
   "metadata": {
    "deletable": true,
    "editable": true
   },
   "source": [
    "So it is not good than 0.93, so i change modified LeNet"
   ]
  },
  {
   "cell_type": "code",
   "execution_count": 14,
   "metadata": {
    "collapsed": false,
    "deletable": true,
    "editable": true
   },
   "outputs": [
    {
     "name": "stdout",
     "output_type": "stream",
     "text": [
      "layer2flat shape: (?, 400)\n",
      "xflat shape: (?, 400)\n",
      "fc2 shape: (?, 800)\n"
     ]
    }
   ],
   "source": [
    "logits, layer1, layer2, layer3, layer4 = LeNet2(x)\n",
    "cross_entropy = tf.nn.softmax_cross_entropy_with_logits(logits=logits, labels=one_hot_y)\n",
    "loss_operation = tf.reduce_mean(cross_entropy)\n",
    "optimizer = tf.train.AdamOptimizer(learning_rate = rate)\n",
    "training_operation = optimizer.minimize(loss_operation)\n",
    "\n",
    "correct_prediction = tf.equal(tf.argmax(logits, 1), tf.argmax(one_hot_y, 1))\n",
    "accuracy_operation = tf.reduce_mean(tf.cast(correct_prediction, tf.float32))"
   ]
  },
  {
   "cell_type": "code",
   "execution_count": 15,
   "metadata": {
    "collapsed": false,
    "deletable": true,
    "editable": true,
    "scrolled": false
   },
   "outputs": [
    {
     "name": "stdout",
     "output_type": "stream",
     "text": [
      "Training...\n",
      "\n",
      "EPOCH 1 / 272: Validation Accuracy = 0.740\n",
      "EPOCH 2 / 272: Validation Accuracy = 0.839\n",
      "EPOCH 3 / 272: Validation Accuracy = 0.864\n",
      "EPOCH 4 / 272: Validation Accuracy = 0.877\n",
      "EPOCH 5 / 272: Validation Accuracy = 0.898\n",
      "EPOCH 6 / 272: Validation Accuracy = 0.894\n",
      "EPOCH 7 / 272: Validation Accuracy = 0.902\n",
      "EPOCH 8 / 272: Validation Accuracy = 0.901\n",
      "EPOCH 9 / 272: Validation Accuracy = 0.915\n",
      "EPOCH 10 / 272: Validation Accuracy = 0.914\n",
      "EPOCH 11 / 272: Validation Accuracy = 0.915\n",
      "EPOCH 12 / 272: Validation Accuracy = 0.919\n",
      "EPOCH 13 / 272: Validation Accuracy = 0.921\n",
      "EPOCH 14 / 272: Validation Accuracy = 0.921\n",
      "EPOCH 15 / 272: Validation Accuracy = 0.920\n",
      "EPOCH 16 / 272: Validation Accuracy = 0.924\n",
      "EPOCH 17 / 272: Validation Accuracy = 0.919\n",
      "EPOCH 18 / 272: Validation Accuracy = 0.924\n",
      "EPOCH 19 / 272: Validation Accuracy = 0.929\n",
      "EPOCH 20 / 272: Validation Accuracy = 0.933\n",
      "EPOCH 21 / 272: Validation Accuracy = 0.934\n",
      "EPOCH 22 / 272: Validation Accuracy = 0.931\n",
      "EPOCH 23 / 272: Validation Accuracy = 0.927\n",
      "EPOCH 24 / 272: Validation Accuracy = 0.921\n",
      "EPOCH 25 / 272: Validation Accuracy = 0.926\n",
      "EPOCH 26 / 272: Validation Accuracy = 0.924\n",
      "EPOCH 27 / 272: Validation Accuracy = 0.927\n",
      "EPOCH 28 / 272: Validation Accuracy = 0.931\n",
      "EPOCH 29 / 272: Validation Accuracy = 0.935\n",
      "EPOCH 30 / 272: Validation Accuracy = 0.930\n",
      "EPOCH 31 / 272: Validation Accuracy = 0.933\n",
      "EPOCH 32 / 272: Validation Accuracy = 0.934\n",
      "EPOCH 33 / 272: Validation Accuracy = 0.939\n",
      "EPOCH 34 / 272: Validation Accuracy = 0.934\n",
      "EPOCH 35 / 272: Validation Accuracy = 0.939\n",
      "EPOCH 36 / 272: Validation Accuracy = 0.936\n",
      "EPOCH 37 / 272: Validation Accuracy = 0.934\n",
      "EPOCH 38 / 272: Validation Accuracy = 0.938\n",
      "EPOCH 39 / 272: Validation Accuracy = 0.935\n",
      "EPOCH 40 / 272: Validation Accuracy = 0.932\n",
      "EPOCH 41 / 272: Validation Accuracy = 0.932\n",
      "EPOCH 42 / 272: Validation Accuracy = 0.923\n",
      "EPOCH 43 / 272: Validation Accuracy = 0.931\n",
      "EPOCH 44 / 272: Validation Accuracy = 0.929\n",
      "EPOCH 45 / 272: Validation Accuracy = 0.929\n",
      "EPOCH 46 / 272: Validation Accuracy = 0.944\n",
      "EPOCH 47 / 272: Validation Accuracy = 0.940\n",
      "EPOCH 48 / 272: Validation Accuracy = 0.945\n",
      "EPOCH 49 / 272: Validation Accuracy = 0.940\n",
      "EPOCH 50 / 272: Validation Accuracy = 0.932\n",
      "EPOCH 51 / 272: Validation Accuracy = 0.939\n",
      "EPOCH 52 / 272: Validation Accuracy = 0.933\n",
      "EPOCH 53 / 272: Validation Accuracy = 0.935\n",
      "EPOCH 54 / 272: Validation Accuracy = 0.944\n",
      "EPOCH 55 / 272: Validation Accuracy = 0.934\n",
      "EPOCH 56 / 272: Validation Accuracy = 0.934\n",
      "EPOCH 57 / 272: Validation Accuracy = 0.928\n",
      "EPOCH 58 / 272: Validation Accuracy = 0.939\n",
      "EPOCH 59 / 272: Validation Accuracy = 0.922\n",
      "EPOCH 60 / 272: Validation Accuracy = 0.934\n",
      "EPOCH 61 / 272: Validation Accuracy = 0.933\n",
      "EPOCH 62 / 272: Validation Accuracy = 0.944\n",
      "EPOCH 63 / 272: Validation Accuracy = 0.936\n",
      "EPOCH 64 / 272: Validation Accuracy = 0.942\n",
      "EPOCH 65 / 272: Validation Accuracy = 0.940\n",
      "EPOCH 66 / 272: Validation Accuracy = 0.946\n",
      "EPOCH 67 / 272: Validation Accuracy = 0.939\n",
      "EPOCH 68 / 272: Validation Accuracy = 0.945\n",
      "EPOCH 69 / 272: Validation Accuracy = 0.946\n",
      "EPOCH 70 / 272: Validation Accuracy = 0.938\n",
      "EPOCH 71 / 272: Validation Accuracy = 0.935\n",
      "EPOCH 72 / 272: Validation Accuracy = 0.936\n",
      "EPOCH 73 / 272: Validation Accuracy = 0.946\n",
      "EPOCH 74 / 272: Validation Accuracy = 0.945\n",
      "EPOCH 75 / 272: Validation Accuracy = 0.937\n",
      "EPOCH 76 / 272: Validation Accuracy = 0.939\n",
      "EPOCH 77 / 272: Validation Accuracy = 0.942\n",
      "EPOCH 78 / 272: Validation Accuracy = 0.941\n",
      "EPOCH 79 / 272: Validation Accuracy = 0.940\n",
      "EPOCH 80 / 272: Validation Accuracy = 0.939\n",
      "EPOCH 81 / 272: Validation Accuracy = 0.945\n",
      "EPOCH 82 / 272: Validation Accuracy = 0.943\n",
      "EPOCH 83 / 272: Validation Accuracy = 0.943\n",
      "EPOCH 84 / 272: Validation Accuracy = 0.939\n",
      "EPOCH 85 / 272: Validation Accuracy = 0.940\n",
      "EPOCH 86 / 272: Validation Accuracy = 0.937\n",
      "EPOCH 87 / 272: Validation Accuracy = 0.941\n",
      "EPOCH 88 / 272: Validation Accuracy = 0.946\n",
      "EPOCH 89 / 272: Validation Accuracy = 0.934\n",
      "EPOCH 90 / 272: Validation Accuracy = 0.950\n",
      "EPOCH 91 / 272: Validation Accuracy = 0.944\n",
      "EPOCH 92 / 272: Validation Accuracy = 0.942\n",
      "EPOCH 93 / 272: Validation Accuracy = 0.944\n",
      "EPOCH 94 / 272: Validation Accuracy = 0.937\n",
      "EPOCH 95 / 272: Validation Accuracy = 0.944\n",
      "EPOCH 96 / 272: Validation Accuracy = 0.945\n",
      "EPOCH 97 / 272: Validation Accuracy = 0.941\n",
      "EPOCH 98 / 272: Validation Accuracy = 0.944\n",
      "EPOCH 99 / 272: Validation Accuracy = 0.945\n",
      "EPOCH 100 / 272: Validation Accuracy = 0.944\n",
      "EPOCH 101 / 272: Validation Accuracy = 0.947\n",
      "EPOCH 102 / 272: Validation Accuracy = 0.947\n",
      "EPOCH 103 / 272: Validation Accuracy = 0.943\n",
      "EPOCH 104 / 272: Validation Accuracy = 0.950\n",
      "EPOCH 105 / 272: Validation Accuracy = 0.947\n",
      "EPOCH 106 / 272: Validation Accuracy = 0.940\n",
      "EPOCH 107 / 272: Validation Accuracy = 0.942\n",
      "EPOCH 108 / 272: Validation Accuracy = 0.946\n",
      "EPOCH 109 / 272: Validation Accuracy = 0.943\n",
      "EPOCH 110 / 272: Validation Accuracy = 0.941\n",
      "EPOCH 111 / 272: Validation Accuracy = 0.937\n",
      "EPOCH 112 / 272: Validation Accuracy = 0.942\n",
      "EPOCH 113 / 272: Validation Accuracy = 0.942\n",
      "EPOCH 114 / 272: Validation Accuracy = 0.943\n",
      "EPOCH 115 / 272: Validation Accuracy = 0.945\n",
      "EPOCH 116 / 272: Validation Accuracy = 0.941\n",
      "EPOCH 117 / 272: Validation Accuracy = 0.944\n",
      "EPOCH 118 / 272: Validation Accuracy = 0.949\n",
      "EPOCH 119 / 272: Validation Accuracy = 0.946\n",
      "EPOCH 120 / 272: Validation Accuracy = 0.935\n",
      "EPOCH 121 / 272: Validation Accuracy = 0.944\n",
      "EPOCH 122 / 272: Validation Accuracy = 0.943\n",
      "EPOCH 123 / 272: Validation Accuracy = 0.946\n",
      "EPOCH 124 / 272: Validation Accuracy = 0.931\n",
      "EPOCH 125 / 272: Validation Accuracy = 0.948\n",
      "EPOCH 126 / 272: Validation Accuracy = 0.949\n",
      "EPOCH 127 / 272: Validation Accuracy = 0.942\n",
      "EPOCH 128 / 272: Validation Accuracy = 0.946\n",
      "EPOCH 129 / 272: Validation Accuracy = 0.939\n",
      "EPOCH 130 / 272: Validation Accuracy = 0.947\n",
      "EPOCH 131 / 272: Validation Accuracy = 0.944\n",
      "EPOCH 132 / 272: Validation Accuracy = 0.946\n",
      "EPOCH 133 / 272: Validation Accuracy = 0.946\n",
      "EPOCH 134 / 272: Validation Accuracy = 0.946\n",
      "EPOCH 135 / 272: Validation Accuracy = 0.947\n",
      "EPOCH 136 / 272: Validation Accuracy = 0.937\n",
      "EPOCH 137 / 272: Validation Accuracy = 0.936\n",
      "EPOCH 138 / 272: Validation Accuracy = 0.944\n",
      "EPOCH 139 / 272: Validation Accuracy = 0.946\n",
      "EPOCH 140 / 272: Validation Accuracy = 0.951\n",
      "EPOCH 141 / 272: Validation Accuracy = 0.956\n",
      "EPOCH 142 / 272: Validation Accuracy = 0.946\n",
      "EPOCH 143 / 272: Validation Accuracy = 0.950\n",
      "EPOCH 144 / 272: Validation Accuracy = 0.952\n",
      "EPOCH 145 / 272: Validation Accuracy = 0.947\n",
      "EPOCH 146 / 272: Validation Accuracy = 0.939\n",
      "EPOCH 147 / 272: Validation Accuracy = 0.944\n",
      "EPOCH 148 / 272: Validation Accuracy = 0.951\n",
      "EPOCH 149 / 272: Validation Accuracy = 0.946\n",
      "EPOCH 150 / 272: Validation Accuracy = 0.949\n",
      "EPOCH 151 / 272: Validation Accuracy = 0.944\n",
      "EPOCH 152 / 272: Validation Accuracy = 0.936\n",
      "EPOCH 153 / 272: Validation Accuracy = 0.948\n",
      "EPOCH 154 / 272: Validation Accuracy = 0.942\n",
      "EPOCH 155 / 272: Validation Accuracy = 0.948\n",
      "EPOCH 156 / 272: Validation Accuracy = 0.944\n",
      "EPOCH 157 / 272: Validation Accuracy = 0.935\n",
      "EPOCH 158 / 272: Validation Accuracy = 0.944\n",
      "EPOCH 159 / 272: Validation Accuracy = 0.945\n",
      "EPOCH 160 / 272: Validation Accuracy = 0.946\n",
      "EPOCH 161 / 272: Validation Accuracy = 0.944\n",
      "EPOCH 162 / 272: Validation Accuracy = 0.943\n",
      "EPOCH 163 / 272: Validation Accuracy = 0.949\n",
      "EPOCH 164 / 272: Validation Accuracy = 0.943\n",
      "EPOCH 165 / 272: Validation Accuracy = 0.944\n",
      "EPOCH 166 / 272: Validation Accuracy = 0.947\n",
      "EPOCH 167 / 272: Validation Accuracy = 0.951\n",
      "EPOCH 168 / 272: Validation Accuracy = 0.944\n",
      "EPOCH 169 / 272: Validation Accuracy = 0.954\n",
      "EPOCH 170 / 272: Validation Accuracy = 0.947\n",
      "EPOCH 171 / 272: Validation Accuracy = 0.955\n",
      "EPOCH 172 / 272: Validation Accuracy = 0.945\n",
      "EPOCH 173 / 272: Validation Accuracy = 0.948\n",
      "EPOCH 174 / 272: Validation Accuracy = 0.950\n",
      "EPOCH 175 / 272: Validation Accuracy = 0.947\n",
      "EPOCH 176 / 272: Validation Accuracy = 0.944\n",
      "EPOCH 177 / 272: Validation Accuracy = 0.944\n",
      "EPOCH 178 / 272: Validation Accuracy = 0.950\n",
      "EPOCH 179 / 272: Validation Accuracy = 0.948\n",
      "EPOCH 180 / 272: Validation Accuracy = 0.950\n",
      "EPOCH 181 / 272: Validation Accuracy = 0.952\n",
      "EPOCH 182 / 272: Validation Accuracy = 0.943\n",
      "EPOCH 183 / 272: Validation Accuracy = 0.950\n",
      "EPOCH 184 / 272: Validation Accuracy = 0.950\n",
      "EPOCH 185 / 272: Validation Accuracy = 0.948\n",
      "EPOCH 186 / 272: Validation Accuracy = 0.948\n",
      "EPOCH 187 / 272: Validation Accuracy = 0.948\n",
      "EPOCH 188 / 272: Validation Accuracy = 0.952\n",
      "EPOCH 189 / 272: Validation Accuracy = 0.945\n",
      "EPOCH 190 / 272: Validation Accuracy = 0.941\n",
      "EPOCH 191 / 272: Validation Accuracy = 0.943\n",
      "EPOCH 192 / 272: Validation Accuracy = 0.944\n",
      "EPOCH 193 / 272: Validation Accuracy = 0.949\n",
      "EPOCH 194 / 272: Validation Accuracy = 0.946\n",
      "EPOCH 195 / 272: Validation Accuracy = 0.946\n",
      "EPOCH 196 / 272: Validation Accuracy = 0.948\n",
      "EPOCH 197 / 272: Validation Accuracy = 0.951\n",
      "EPOCH 198 / 272: Validation Accuracy = 0.954\n",
      "EPOCH 199 / 272: Validation Accuracy = 0.945\n",
      "EPOCH 200 / 272: Validation Accuracy = 0.940\n",
      "EPOCH 201 / 272: Validation Accuracy = 0.947\n",
      "EPOCH 202 / 272: Validation Accuracy = 0.950\n",
      "EPOCH 203 / 272: Validation Accuracy = 0.949\n",
      "EPOCH 204 / 272: Validation Accuracy = 0.951\n",
      "EPOCH 205 / 272: Validation Accuracy = 0.946\n",
      "EPOCH 206 / 272: Validation Accuracy = 0.945\n",
      "EPOCH 207 / 272: Validation Accuracy = 0.952\n",
      "EPOCH 208 / 272: Validation Accuracy = 0.946\n",
      "EPOCH 209 / 272: Validation Accuracy = 0.949\n",
      "EPOCH 210 / 272: Validation Accuracy = 0.942\n",
      "EPOCH 211 / 272: Validation Accuracy = 0.950\n",
      "EPOCH 212 / 272: Validation Accuracy = 0.949\n",
      "EPOCH 213 / 272: Validation Accuracy = 0.943\n",
      "EPOCH 214 / 272: Validation Accuracy = 0.952\n",
      "EPOCH 215 / 272: Validation Accuracy = 0.947\n",
      "EPOCH 216 / 272: Validation Accuracy = 0.952\n",
      "EPOCH 217 / 272: Validation Accuracy = 0.946\n",
      "EPOCH 218 / 272: Validation Accuracy = 0.945\n",
      "EPOCH 219 / 272: Validation Accuracy = 0.946\n",
      "EPOCH 220 / 272: Validation Accuracy = 0.949\n",
      "EPOCH 221 / 272: Validation Accuracy = 0.939\n",
      "EPOCH 222 / 272: Validation Accuracy = 0.955\n",
      "EPOCH 223 / 272: Validation Accuracy = 0.946\n",
      "EPOCH 224 / 272: Validation Accuracy = 0.955\n",
      "EPOCH 225 / 272: Validation Accuracy = 0.956\n",
      "EPOCH 226 / 272: Validation Accuracy = 0.956\n",
      "EPOCH 227 / 272: Validation Accuracy = 0.949\n",
      "EPOCH 228 / 272: Validation Accuracy = 0.952\n",
      "EPOCH 229 / 272: Validation Accuracy = 0.951\n",
      "EPOCH 230 / 272: Validation Accuracy = 0.950\n",
      "EPOCH 231 / 272: Validation Accuracy = 0.954\n",
      "EPOCH 232 / 272: Validation Accuracy = 0.955\n",
      "EPOCH 233 / 272: Validation Accuracy = 0.933\n",
      "EPOCH 234 / 272: Validation Accuracy = 0.944\n",
      "EPOCH 235 / 272: Validation Accuracy = 0.957\n",
      "EPOCH 236 / 272: Validation Accuracy = 0.956\n",
      "EPOCH 237 / 272: Validation Accuracy = 0.954\n",
      "EPOCH 238 / 272: Validation Accuracy = 0.953\n",
      "EPOCH 239 / 272: Validation Accuracy = 0.941\n",
      "EPOCH 240 / 272: Validation Accuracy = 0.957\n",
      "EPOCH 241 / 272: Validation Accuracy = 0.954\n",
      "EPOCH 242 / 272: Validation Accuracy = 0.951\n",
      "EPOCH 243 / 272: Validation Accuracy = 0.949\n",
      "EPOCH 244 / 272: Validation Accuracy = 0.947\n",
      "EPOCH 245 / 272: Validation Accuracy = 0.950\n",
      "EPOCH 246 / 272: Validation Accuracy = 0.949\n",
      "EPOCH 247 / 272: Validation Accuracy = 0.944\n",
      "EPOCH 248 / 272: Validation Accuracy = 0.949\n",
      "EPOCH 249 / 272: Validation Accuracy = 0.949\n",
      "EPOCH 250 / 272: Validation Accuracy = 0.950\n",
      "EPOCH 251 / 272: Validation Accuracy = 0.940\n",
      "EPOCH 252 / 272: Validation Accuracy = 0.951\n",
      "EPOCH 253 / 272: Validation Accuracy = 0.953\n",
      "EPOCH 254 / 272: Validation Accuracy = 0.946\n",
      "EPOCH 255 / 272: Validation Accuracy = 0.943\n",
      "EPOCH 256 / 272: Validation Accuracy = 0.949\n",
      "EPOCH 257 / 272: Validation Accuracy = 0.945\n",
      "EPOCH 258 / 272: Validation Accuracy = 0.953\n",
      "EPOCH 259 / 272: Validation Accuracy = 0.949\n",
      "EPOCH 260 / 272: Validation Accuracy = 0.951\n",
      "EPOCH 261 / 272: Validation Accuracy = 0.949\n",
      "EPOCH 262 / 272: Validation Accuracy = 0.944\n",
      "EPOCH 263 / 272: Validation Accuracy = 0.945\n",
      "EPOCH 264 / 272: Validation Accuracy = 0.949\n",
      "EPOCH 265 / 272: Validation Accuracy = 0.950\n",
      "EPOCH 266 / 272: Validation Accuracy = 0.951\n",
      "EPOCH 267 / 272: Validation Accuracy = 0.947\n",
      "EPOCH 268 / 272: Validation Accuracy = 0.953\n",
      "EPOCH 269 / 272: Validation Accuracy = 0.954\n",
      "EPOCH 270 / 272: Validation Accuracy = 0.955\n",
      "EPOCH 271 / 272: Validation Accuracy = 0.944\n",
      "EPOCH 272 / 272: Validation Accuracy = 0.947\n",
      "Model lenet saved\n"
     ]
    }
   ],
   "source": [
    "saver = tf.train.Saver()\n",
    "### Training and valid\n",
    "if True:\n",
    "    with tf.Session() as sess:\n",
    "        sess.run(tf.global_variables_initializer())\n",
    "        num_examples = len(X_train)\n",
    "\n",
    "        print(\"Training...\")\n",
    "        print()\n",
    "        for i in range(EPOCHS):\n",
    "            for offset in range(0, num_examples, BATCH_SIZE):\n",
    "                end = offset + BATCH_SIZE\n",
    "                batch_x, batch_y = X_train[offset:end], y_train[offset:end]\n",
    "                sess.run(training_operation, feed_dict={x: batch_x, y: batch_y, keep_prob: dropout})\n",
    "\n",
    "            validation_accuracy = evaluate(X_valid, y_valid)\n",
    "            print(\"EPOCH {} / {}: Validation Accuracy = {:.3f}\".format(i + 1, EPOCHS, validation_accuracy))\n",
    "\n",
    "        saver.save(sess, './lenet')\n",
    "        print(\"Model lenet saved\")"
   ]
  },
  {
   "cell_type": "code",
   "execution_count": 16,
   "metadata": {
    "collapsed": false,
    "deletable": true,
    "editable": true
   },
   "outputs": [
    {
     "name": "stdout",
     "output_type": "stream",
     "text": [
      "Test Accuracy = 0.934\n",
      "Train Accuracy = 0.999\n",
      "Valid Accuracy = 0.952\n"
     ]
    }
   ],
   "source": [
    "### Testing the model\n",
    "saver = tf.train.Saver()\n",
    "with tf.Session() as sess:\n",
    "    saver.restore(sess, \"./lenet\")\n",
    "    test_accuracy = evaluate(X_test, y_test)\n",
    "    print(\"Test Accuracy = {:.3f}\".format(test_accuracy))\n",
    "    test_accuracy = evaluate(X_train, y_train)\n",
    "    print(\"Train Accuracy = {:.3f}\".format(test_accuracy))\n",
    "    test_accuracy = evaluate(X_valid, y_valid)\n",
    "    print(\"Valid Accuracy = {:.3f}\".format(test_accuracy))"
   ]
  },
  {
   "cell_type": "markdown",
   "metadata": {
    "collapsed": true,
    "deletable": true,
    "editable": true
   },
   "source": [
    "## Use this method, the test accuracy is 0.932, it's better than LeNet"
   ]
  },
  {
   "cell_type": "markdown",
   "metadata": {
    "deletable": true,
    "editable": true
   },
   "source": [
    "---\n",
    "\n",
    "## Step 3: Test a Model on New Images\n",
    "\n",
    "To give yourself more insight into how your model is working, download at least five pictures of German traffic signs from the web and use your model to predict the traffic sign type.\n",
    "\n",
    "You may find `signnames.csv` useful as it contains mappings from the class id (integer) to the actual sign name."
   ]
  },
  {
   "cell_type": "markdown",
   "metadata": {
    "deletable": true,
    "editable": true
   },
   "source": [
    "### Load and Output the Images"
   ]
  },
  {
   "cell_type": "code",
   "execution_count": 17,
   "metadata": {
    "collapsed": false,
    "deletable": true,
    "editable": true
   },
   "outputs": [
    {
     "data": {
      "image/png": "[encoded data removed]",
      "text/plain": [
       "<matplotlib.figure.Figure at 0x200e6f30278>"
      ]
     },
     "metadata": {},
     "output_type": "display_data"
    }
   ],
   "source": [
    "### Load the images and plot them here.\n",
    "### Feel free to use as many code cells as needed.\n",
    "\n",
    "#reading in an image\n",
    "import glob\n",
    "import matplotlib.image as mpimg\n",
    "import matplotlib.pyplot as plt\n",
    "# Visualizations will be shown in the notebook.\n",
    "%matplotlib inline\n",
    "import cv2\n",
    "import numpy as np\n",
    "import tensorflow as tf\n",
    "\n",
    "fig, axs = plt.subplots(2,4, figsize=(4, 2))\n",
    "fig.subplots_adjust(hspace = .2, wspace=.001)\n",
    "axs = axs.ravel()\n",
    "\n",
    "saver = tf.train.Saver()\n",
    "\n",
    "my_images = []\n",
    "\n",
    "for i, img in enumerate(glob.glob('./my-found-traffic-signs/*x.png')):\n",
    "    image = cv2.imread(img)\n",
    "    axs[i].axis('off')\n",
    "    axs[i].imshow(cv2.cvtColor(image, cv2.COLOR_BGR2RGB))\n",
    "    my_images.append(image)"
   ]
  },
  {
   "cell_type": "code",
   "execution_count": 18,
   "metadata": {
    "collapsed": false,
    "deletable": true,
    "editable": true
   },
   "outputs": [
    {
     "name": "stdout",
     "output_type": "stream",
     "text": [
      "(8, 32, 32, 1)\n"
     ]
    }
   ],
   "source": [
    "# grayscale and normalized\n",
    "my_images = np.asarray(my_images)\n",
    "my_images_gry = np.sum(my_images/3, axis=3, keepdims=True)\n",
    "my_images_normalized = (my_images_gry - 128)/128\n",
    "print(my_images_normalized.shape)"
   ]
  },
  {
   "cell_type": "markdown",
   "metadata": {
    "deletable": true,
    "editable": true
   },
   "source": [
    "### Predict the Sign Type for Each Image"
   ]
  },
  {
   "cell_type": "code",
   "execution_count": 19,
   "metadata": {
    "collapsed": false,
    "deletable": true,
    "editable": true,
    "scrolled": true
   },
   "outputs": [
    {
     "name": "stdout",
     "output_type": "stream",
     "text": [
      "predict result is:  [ 3 11  1 12 38 34 18 25]\n"
     ]
    }
   ],
   "source": [
    "### Run the predictions here and use the model to output the prediction for each image.\n",
    "### Make sure to pre-process the images with the same pre-processing pipeline used earlier.\n",
    "### Feel free to use as many code cells as needed.\n",
    "\n",
    "with tf.Session() as sess:\n",
    "    sess.run(tf.global_variables_initializer())\n",
    "    saver.restore(sess, \"./lenet\")\n",
    "    y_predict = sess.run(tf.argmax(logits, 1), feed_dict={x: my_images_normalized, keep_prob: dropout})\n",
    "    print(\"predict result is: \", y_predict)"
   ]
  },
  {
   "cell_type": "markdown",
   "metadata": {
    "deletable": true,
    "editable": true
   },
   "source": [
    "the Result is [ 3 11  1 12 38 34 18 25]\n",
    "\n",
    "in the signnames.csv\n",
    "\n",
    "- 3 - Speed limit (60km/h)\n",
    "- 11 - Right-of-way at the next intersection\n",
    "- 1 - Speed limit (30km/h)\n",
    "- 12 - Priority road\n",
    "- 38 - Keep right\n",
    "- 34 - Turn left ahead\n",
    "- 18 - General caution\n",
    "- 25 - Road work\n",
    "\n",
    "the 3rd is wrong, but it is Speed limit (30km/h),not (50km/h)"
   ]
  },
  {
   "cell_type": "markdown",
   "metadata": {
    "deletable": true,
    "editable": true
   },
   "source": [
    "### Analyze Performance"
   ]
  },
  {
   "cell_type": "code",
   "execution_count": 20,
   "metadata": {
    "collapsed": false,
    "deletable": true,
    "editable": true
   },
   "outputs": [
    {
     "name": "stdout",
     "output_type": "stream",
     "text": [
      "Test Set Accuracy = 1.000\n"
     ]
    }
   ],
   "source": [
    "### Calculate the accuracy for these 5 new images. \n",
    "### For example, if the model predicted 1 out of 5 signs correctly, it's 20% accurate on these new images.\n",
    "my_labels = [3, 11, 1, 12, 38, 34, 18, 25]\n",
    "\n",
    "with tf.Session() as sess:\n",
    "    correct_prediction = tf.equal(tf.constant(my_labels), tf.constant(y_predict.astype(np.int32)))\n",
    "    accuracy_operation = tf.reduce_mean(tf.cast(correct_prediction, tf.float32))\n",
    "    my_accuracy = sess.run(accuracy_operation)\n",
    "    print(\"Test Set Accuracy = {:.3f}\".format(my_accuracy))"
   ]
  },
  {
   "cell_type": "markdown",
   "metadata": {
    "deletable": true,
    "editable": true
   },
   "source": [
    "Test Set Accuracy = 1.000"
   ]
  },
  {
   "cell_type": "markdown",
   "metadata": {
    "deletable": true,
    "editable": true
   },
   "source": [
    "### Output Top 5 Softmax Probabilities For Each Image Found on the Web"
   ]
  },
  {
   "cell_type": "markdown",
   "metadata": {
    "deletable": true,
    "editable": true
   },
   "source": [
    "For each of the new images, print out the model's softmax probabilities to show the **certainty** of the model's predictions (limit the output to the top 5 probabilities for each image). [`tf.nn.top_k`](https://www.tensorflow.org/versions/r0.12/api_docs/python/nn.html#top_k) could prove helpful here. \n",
    "\n",
    "The example below demonstrates how tf.nn.top_k can be used to find the top k predictions for each image.\n",
    "\n",
    "`tf.nn.top_k` will return the values and indices (class ids) of the top k predictions. So if k=3, for each sign, it'll return the 3 largest probabilities (out of a possible 43) and the correspoding class ids.\n",
    "\n",
    "Take this numpy array as an example. The values in the array represent predictions. The array contains softmax probabilities for five candidate images with six possible classes. `tk.nn.top_k` is used to choose the three classes with the highest probability:\n",
    "\n",
    "```\n",
    "# (5, 6) array\n",
    "a = np.array([[ 0.24879643,  0.07032244,  0.12641572,  0.34763842,  0.07893497,\n",
    "         0.12789202],\n",
    "       [ 0.28086119,  0.27569815,  0.08594638,  0.0178669 ,  0.18063401,\n",
    "         0.15899337],\n",
    "       [ 0.26076848,  0.23664738,  0.08020603,  0.07001922,  0.1134371 ,\n",
    "         0.23892179],\n",
    "       [ 0.11943333,  0.29198961,  0.02605103,  0.26234032,  0.1351348 ,\n",
    "         0.16505091],\n",
    "       [ 0.09561176,  0.34396535,  0.0643941 ,  0.16240774,  0.24206137,\n",
    "         0.09155967]])\n",
    "```\n",
    "\n",
    "Running it through `sess.run(tf.nn.top_k(tf.constant(a), k=3))` produces:\n",
    "\n",
    "```\n",
    "TopKV2(values=array([[ 0.34763842,  0.24879643,  0.12789202],\n",
    "       [ 0.28086119,  0.27569815,  0.18063401],\n",
    "       [ 0.26076848,  0.23892179,  0.23664738],\n",
    "       [ 0.29198961,  0.26234032,  0.16505091],\n",
    "       [ 0.34396535,  0.24206137,  0.16240774]]), indices=array([[3, 0, 5],\n",
    "       [0, 1, 4],\n",
    "       [0, 5, 1],\n",
    "       [1, 3, 5],\n",
    "       [1, 4, 3]], dtype=int32))\n",
    "```\n",
    "\n",
    "Looking just at the first row we get `[ 0.34763842,  0.24879643,  0.12789202]`, you can confirm these are the 3 largest probabilities in `a`. You'll also notice `[3, 0, 5]` are the corresponding indices."
   ]
  },
  {
   "cell_type": "code",
   "execution_count": 21,
   "metadata": {
    "collapsed": false,
    "deletable": true,
    "editable": true
   },
   "outputs": [
    {
     "name": "stdout",
     "output_type": "stream",
     "text": [
      "TopKV2(values=array([[  1.00000000e+00,   1.41378575e-31,   1.72826913e-35,\n",
      "          7.56087262e-39,   1.49098157e-42],\n",
      "       [  1.00000000e+00,   1.88943260e-37,   0.00000000e+00,\n",
      "          0.00000000e+00,   0.00000000e+00],\n",
      "       [  1.00000000e+00,   7.53898574e-43,   0.00000000e+00,\n",
      "          0.00000000e+00,   0.00000000e+00],\n",
      "       [  1.00000000e+00,   0.00000000e+00,   0.00000000e+00,\n",
      "          0.00000000e+00,   0.00000000e+00],\n",
      "       [  1.00000000e+00,   0.00000000e+00,   0.00000000e+00,\n",
      "          0.00000000e+00,   0.00000000e+00],\n",
      "       [  1.00000000e+00,   7.68681298e-35,   4.93610411e-38,\n",
      "          5.60519386e-45,   0.00000000e+00],\n",
      "       [  1.00000000e+00,   0.00000000e+00,   0.00000000e+00,\n",
      "          0.00000000e+00,   0.00000000e+00],\n",
      "       [  1.00000000e+00,   3.82002709e-19,   1.58198589e-19,\n",
      "          9.67946197e-26,   1.43244768e-26]], dtype=float32), indices=array([[ 3, 41,  6, 16,  9],\n",
      "       [11, 30,  0,  1,  2],\n",
      "       [ 1,  0,  2,  3,  4],\n",
      "       [12,  0,  1,  2,  3],\n",
      "       [38,  0,  1,  2,  3],\n",
      "       [34, 30, 26, 38,  0],\n",
      "       [18,  0,  1,  2,  3],\n",
      "       [25, 20, 33, 12,  1]]))\n"
     ]
    }
   ],
   "source": [
    "### Print out the top five softmax probabilities for the predictions on the German traffic sign images found on the web. \n",
    "### Feel free to use as many code cells as needed.\n",
    "k = 5\n",
    "softmax_logits = tf.nn.softmax(logits)\n",
    "top_k = tf.nn.top_k(softmax_logits, k=k)\n",
    "my_top_k = []\n",
    "\n",
    "with tf.Session() as sess:\n",
    "    saver.restore(sess, \"./lenet\")\n",
    "    my_softmax_logits = sess.run(softmax_logits, feed_dict={x: my_images_normalized, keep_prob: 0.5})\n",
    "    my_top_k = sess.run(top_k, feed_dict={x: my_images_normalized, keep_prob: 0.5})\n",
    "    \n",
    "    print(my_top_k)"
   ]
  },
  {
   "cell_type": "code",
   "execution_count": 22,
   "metadata": {
    "collapsed": false,
    "deletable": true,
    "editable": true
   },
   "outputs": [
    {
     "data": {
      "image/png": "[encoded data removed]",
      "text/plain": [
       "<matplotlib.figure.Figure at 0x200e9960be0>"
      ]
     },
     "metadata": {},
     "output_type": "display_data"
    }
   ],
   "source": [
    "# show the pictures \n",
    "fig, axs = plt.subplots(len(my_images),(k+1), figsize=(12, 20))\n",
    "axs = axs.ravel()\n",
    "\n",
    "for i, image in enumerate(my_images):\n",
    "    axs[(k+1)*i].axis('off')\n",
    "    axs[(k+1)*i].imshow(cv2.cvtColor(image, cv2.COLOR_BGR2RGB))\n",
    "    axs[(k+1)*i].set_title('input')\n",
    "    for j in range(k):\n",
    "        guess = my_top_k[1][i][j]\n",
    "        index = np.argwhere(y_train == guess)[0]\n",
    "        axs[(k+1)*i+j+1].axis('off')\n",
    "        axs[(k+1)*i+j+1].imshow(X_train[index].squeeze(), cmap='gray')\n",
    "        axs[(k+1)*i+j+1].set_title('guest {}: ({:.0f}%)'.format(guess, 100*my_top_k[0][i][j]))"
   ]
  },
  {
   "cell_type": "markdown",
   "metadata": {
    "deletable": true,
    "editable": true
   },
   "source": [
    "### Project Writeup\n",
    "\n",
    "Once you have completed the code implementation, document your results in a project writeup using this [template](https://github.com/udacity/CarND-Traffic-Sign-Classifier-Project/blob/master/writeup_template.md) as a guide. The writeup can be in a markdown or pdf file. "
   ]
  },
  {
   "cell_type": "markdown",
   "metadata": {
    "deletable": true,
    "editable": true
   },
   "source": [
    "> **Note**: Once you have completed all of the code implementations and successfully answered each question above, you may finalize your work by exporting the iPython Notebook as an HTML document. You can do this by using the menu above and navigating to  \\n\",\n",
    "    \"**File -> Download as -> HTML (.html)**. Include the finished document along with this notebook as your submission."
   ]
  },
  {
   "cell_type": "markdown",
   "metadata": {
    "deletable": true,
    "editable": true
   },
   "source": [
    "---\n",
    "\n",
    "## Step 4 (Optional): Visualize the Neural Network's State with Test Images\n",
    "\n",
    " This Section is not required to complete but acts as an additional excersise for understaning the output of a neural network's weights. While neural networks can be a great learning device they are often referred to as a black box. We can understand what the weights of a neural network look like better by plotting their feature maps. After successfully training your neural network you can see what it's feature maps look like by plotting the output of the network's weight layers in response to a test stimuli image. From these plotted feature maps, it's possible to see what characteristics of an image the network finds interesting. For a sign, maybe the inner network feature maps react with high activation to the sign's boundary outline or to the contrast in the sign's painted symbol.\n",
    "\n",
    " Provided for you below is the function code that allows you to get the visualization output of any tensorflow weight layer you want. The inputs to the function should be a stimuli image, one used during training or a new one you provided, and then the tensorflow variable name that represents the layer's state during the training process, for instance if you wanted to see what the [LeNet lab's](https://classroom.udacity.com/nanodegrees/nd013/parts/fbf77062-5703-404e-b60c-95b78b2f3f9e/modules/6df7ae49-c61c-4bb2-a23e-6527e69209ec/lessons/601ae704-1035-4287-8b11-e2c2716217ad/concepts/d4aca031-508f-4e0b-b493-e7b706120f81) feature maps looked like for it's second convolutional layer you could enter conv2 as the tf_activation variable.\n",
    "\n",
    "For an example of what feature map outputs look like, check out NVIDIA's results in their paper [End-to-End Deep Learning for Self-Driving Cars](https://devblogs.nvidia.com/parallelforall/deep-learning-self-driving-cars/) in the section Visualization of internal CNN State. NVIDIA was able to show that their network's inner weights had high activations to road boundary lines by comparing feature maps from an image with a clear path to one without. Try experimenting with a similar test to show that your trained network's weights are looking for interesting features, whether it's looking at differences in feature maps from images with or without a sign, or even what feature maps look like in a trained network vs a completely untrained one on the same sign image.\n",
    "\n",
    "<figure>\n",
    " <img src=\"visualize_cnn.png\" width=\"380\" alt=\"Combined Image\" />\n",
    " <figcaption>\n",
    " <p></p> \n",
    " <p style=\"text-align: center;\"> Your output should look something like this (above)</p> \n",
    " </figcaption>\n",
    "</figure>\n",
    " <p></p> \n"
   ]
  },
  {
   "cell_type": "code",
   "execution_count": 23,
   "metadata": {
    "collapsed": true,
    "deletable": true,
    "editable": true
   },
   "outputs": [],
   "source": [
    "### Visualize your network's feature maps here.\n",
    "### Feel free to use as many code cells as needed.\n",
    "\n",
    "# image_input: the test image being fed into the network to produce the feature maps\n",
    "# tf_activation: should be a tf variable name used during your training procedure that represents the calculated state of a specific weight layer\n",
    "# activation_min/max: can be used to view the activation contrast in more detail, by default matplot sets min and max to the actual min and max values of the output\n",
    "# plt_num: used to plot out multiple different weight feature map sets on the same block, just extend the plt number for each new feature map entry\n",
    "\n",
    "def outputFeatureMap(image_input, tf_activation, activation_min=-1, activation_max=-1 ,plt_num=1):\n",
    "    # Here make sure to preprocess your image_input in a way your network expects\n",
    "    # with size, normalization, ect if needed\n",
    "    # image_input =\n",
    "    # Note: x should be the same name as your network's tensorflow data placeholder variable\n",
    "    # If you get an error tf_activation is not defined it may be having trouble accessing the variable from inside a function\n",
    "    activation = tf_activation.eval(session=sess,feed_dict={x : image_input})\n",
    "    featuremaps = activation.shape[3]\n",
    "    plt.figure(plt_num, figsize=(15,15))\n",
    "    for featuremap in range(featuremaps):\n",
    "        plt.subplot(6,8, featuremap+1) # sets the number of feature maps to show on each row and column\n",
    "        plt.title('FeatureMap ' + str(featuremap)) # displays the feature map number\n",
    "        if activation_min != -1 & activation_max != -1:\n",
    "            plt.imshow(activation[0,:,:, featuremap], interpolation=\"nearest\", vmin =activation_min, vmax=activation_max, cmap=\"gray\")\n",
    "        elif activation_max != -1:\n",
    "            plt.imshow(activation[0,:,:, featuremap], interpolation=\"nearest\", vmax=activation_max, cmap=\"gray\")\n",
    "        elif activation_min !=-1:\n",
    "            plt.imshow(activation[0,:,:, featuremap], interpolation=\"nearest\", vmin=activation_min, cmap=\"gray\")\n",
    "        else:\n",
    "            plt.imshow(activation[0,:,:, featuremap], interpolation=\"nearest\", cmap=\"gray\")"
   ]
  },
  {
   "cell_type": "code",
   "execution_count": 24,
   "metadata": {
    "collapsed": false,
    "deletable": true,
    "editable": true
   },
   "outputs": [
    {
     "name": "stdout",
     "output_type": "stream",
     "text": [
      "Feature Map Stage 1:\n"
     ]
    },
    {
     "data": {
      "image/png": "[encoded data removed]",
      "text/plain": [
       "<matplotlib.figure.Figure at 0x200e84cf8d0>"
      ]
     },
     "metadata": {},
     "output_type": "display_data"
    }
   ],
   "source": [
    "#show the first layer before maxpooling\n",
    "with tf.Session() as sess:\n",
    "    saver.restore(sess, \"./lenet\")\n",
    "    print(\"Feature Map Stage 1:\")\n",
    "    outputFeatureMap(my_images_normalized, layer1, plt_num=1)"
   ]
  },
  {
   "cell_type": "code",
   "execution_count": 25,
   "metadata": {
    "collapsed": false,
    "deletable": true,
    "editable": true
   },
   "outputs": [
    {
     "name": "stdout",
     "output_type": "stream",
     "text": [
      "Feature Map Stage 2:\n"
     ]
    },
    {
     "data": {
      "image/png": "[encoded data removed]",
      "text/plain": [
       "<matplotlib.figure.Figure at 0x20100598198>"
      ]
     },
     "metadata": {},
     "output_type": "display_data"
    }
   ],
   "source": [
    "#show the second layer before maxpooling\n",
    "with tf.Session() as sess:\n",
    "    saver.restore(sess, \"./lenet\")\n",
    "    print(\"Feature Map Stage 2:\")\n",
    "    outputFeatureMap(my_images_normalized, layer2, plt_num=2)"
   ]
  },
  {
   "cell_type": "code",
   "execution_count": 26,
   "metadata": {
    "collapsed": false,
    "deletable": true,
    "editable": true
   },
   "outputs": [
    {
     "name": "stdout",
     "output_type": "stream",
     "text": [
      "Feature Map Stage 3:\n"
     ]
    },
    {
     "data": {
      "image/png": "[encoded data removed]",
      "text/plain": [
       "<matplotlib.figure.Figure at 0x2011e142390>"
      ]
     },
     "metadata": {},
     "output_type": "display_data"
    }
   ],
   "source": [
    "with tf.Session() as sess:\n",
    "    saver.restore(sess, \"./lenet\")\n",
    "    print(\"Feature Map Stage 3:\")\n",
    "    outputFeatureMap(my_images_normalized, layer3, plt_num=3)"
   ]
  },
  {
   "cell_type": "code",
   "execution_count": 27,
   "metadata": {
    "collapsed": false
   },
   "outputs": [
    {
     "name": "stdout",
     "output_type": "stream",
     "text": [
      "Feature Map Stage 4:\n"
     ]
    },
    {
     "data": {
      "image/png": "[encoded data removed]",
      "text/plain": [
       "<matplotlib.figure.Figure at 0x200e8342e80>"
      ]
     },
     "metadata": {},
     "output_type": "display_data"
    }
   ],
   "source": [
    "with tf.Session() as sess:\n",
    "    saver.restore(sess, \"./lenet\")\n",
    "    print(\"Feature Map Stage 4:\")\n",
    "    outputFeatureMap(my_images_normalized, layer4, plt_num=4)"
   ]
  },
  {
   "cell_type": "code",
   "execution_count": null,
   "metadata": {
    "collapsed": true
   },
   "outputs": [],
   "source": []
  }
 ],
 "metadata": {
  "anaconda-cloud": {},
  "kernelspec": {
   "display_name": "Python 3",
   "language": "python",
   "name": "python3"
  },
  "language_info": {
   "codemirror_mode": {
    "name": "ipython",
    "version": 3
   },
   "file_extension": ".py",
   "mimetype": "text/x-python",
   "name": "python",
   "nbconvert_exporter": "python",
   "pygments_lexer": "ipython3",
   "version": "3.5.3"
  }
 },
 "nbformat": 4,
 "nbformat_minor": 0
}
